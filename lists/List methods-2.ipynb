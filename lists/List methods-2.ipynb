{
 "cells": [
  {
   "cell_type": "code",
   "execution_count": 1,
   "id": "dcff3844",
   "metadata": {},
   "outputs": [
    {
     "name": "stdout",
     "output_type": "stream",
     "text": [
      "[1, 2, 3, 4]\n"
     ]
    }
   ],
   "source": [
    "#copying list\n",
    "# using =operator\n",
    "l1=[1,2,3,4]\n",
    "l2=l1\n",
    "print(l2)"
   ]
  },
  {
   "cell_type": "code",
   "execution_count": 7,
   "id": "fd919e46",
   "metadata": {},
   "outputs": [
    {
     "name": "stdout",
     "output_type": "stream",
     "text": [
      "['apple', 'banana', 'cherry']\n"
     ]
    }
   ],
   "source": [
    "#using copy operator\n",
    "tl=['apple','banana','cherry']\n",
    "nl=tl.copy()\n",
    "print(nl)"
   ]
  },
  {
   "cell_type": "code",
   "execution_count": 8,
   "id": "16f166dd",
   "metadata": {},
   "outputs": [
    {
     "name": "stdout",
     "output_type": "stream",
     "text": [
      "['apple', 'banana', 'cherry', 'mango']\n",
      "['apple', 'banana', 'cherry']\n"
     ]
    }
   ],
   "source": [
    "tl.append('mango')\n",
    "print(tl)\n",
    "print(nl)"
   ]
  },
  {
   "cell_type": "code",
   "execution_count": 9,
   "id": "921da887",
   "metadata": {},
   "outputs": [
    {
     "name": "stdout",
     "output_type": "stream",
     "text": [
      "[1, 2, 3, 4, 5]\n"
     ]
    }
   ],
   "source": [
    "l1.append(5)\n",
    "print(l1)"
   ]
  },
  {
   "cell_type": "code",
   "execution_count": 10,
   "id": "7fedc25a",
   "metadata": {},
   "outputs": [
    {
     "name": "stdout",
     "output_type": "stream",
     "text": [
      "[6, 7, 8]\n"
     ]
    }
   ],
   "source": [
    "a=[6,7,8]\n",
    "nl=list(a)\n",
    "print(nl)"
   ]
  },
  {
   "cell_type": "code",
   "execution_count": 12,
   "id": "da047c41",
   "metadata": {},
   "outputs": [
    {
     "name": "stdout",
     "output_type": "stream",
     "text": [
      "['apple', 'banana', 'cherry', 'kiwi']\n",
      "[6, 7, 8]\n"
     ]
    }
   ],
   "source": [
    "a=['apple','banana','cherry']\n",
    "a.append('kiwi')\n",
    "print(a)\n",
    "print(nl)"
   ]
  },
  {
   "cell_type": "code",
   "execution_count": 13,
   "id": "483c3ad0",
   "metadata": {},
   "outputs": [
    {
     "name": "stdout",
     "output_type": "stream",
     "text": [
      "[1, 2, 4, 6, 6, 9, 10]\n"
     ]
    }
   ],
   "source": [
    "#sort method\n",
    "sort=[9,4,6,2,6,1,10]\n",
    "sort.sort()\n",
    "print(sort)"
   ]
  },
  {
   "cell_type": "code",
   "execution_count": 14,
   "id": "5480e987",
   "metadata": {},
   "outputs": [
    {
     "name": "stdout",
     "output_type": "stream",
     "text": [
      "[10, 1, 6, 2, 6, 4, 9]\n"
     ]
    }
   ],
   "source": [
    "#reverse method\n",
    "rev=[9,4,6,2,6,1,10]\n",
    "rev.reverse()\n",
    "print(rev)"
   ]
  },
  {
   "cell_type": "code",
   "execution_count": null,
   "id": "9dbca35a",
   "metadata": {},
   "outputs": [],
   "source": []
  }
 ],
 "metadata": {
  "kernelspec": {
   "display_name": "Python 3 (ipykernel)",
   "language": "python",
   "name": "python3"
  },
  "language_info": {
   "codemirror_mode": {
    "name": "ipython",
    "version": 3
   },
   "file_extension": ".py",
   "mimetype": "text/x-python",
   "name": "python",
   "nbconvert_exporter": "python",
   "pygments_lexer": "ipython3",
   "version": "3.9.7"
  }
 },
 "nbformat": 4,
 "nbformat_minor": 5
}
