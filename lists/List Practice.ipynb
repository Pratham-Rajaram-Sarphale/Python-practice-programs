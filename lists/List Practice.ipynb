{
 "cells": [
  {
   "cell_type": "markdown",
   "id": "1573b0c0",
   "metadata": {},
   "source": [
    "# Python List"
   ]
  },
  {
   "cell_type": "markdown",
   "id": "aae183ae",
   "metadata": {},
   "source": [
    "Q.Properties of list are\n",
    "1.mutable\n",
    "2.ordered\n",
    "3.heterogenous\n",
    "4.Duplicates"
   ]
  },
  {
   "cell_type": "code",
   "execution_count": 1,
   "id": "d7e4647e",
   "metadata": {},
   "outputs": [
    {
     "name": "stdout",
     "output_type": "stream",
     "text": [
      "['pratham', 19.1, 'IT', 'S.Y', 21, 'Thane']\n",
      "('pratham', 19.1, 'IT', 'S.Y', 21, 'Thane')\n"
     ]
    }
   ],
   "source": [
    "#Create list of your name,age,field,std,roll no.,location,using [] and list constructor\n",
    "list1=['pratham',19.1,'IT','S.Y',21,'Thane']\n",
    "print(list1)\n",
    "list2=(('pratham',19.1,'IT','S.Y',21,'Thane'))\n",
    "print(list2)"
   ]
  },
  {
   "cell_type": "code",
   "execution_count": 2,
   "id": "1e4f4fb5",
   "metadata": {},
   "outputs": [
    {
     "name": "stdout",
     "output_type": "stream",
     "text": [
      "IT\n"
     ]
    }
   ],
   "source": [
    "#print only your field using index method\n",
    "print(list1[2])"
   ]
  },
  {
   "cell_type": "code",
   "execution_count": 3,
   "id": "4537cfef",
   "metadata": {},
   "outputs": [
    {
     "name": "stdout",
     "output_type": "stream",
     "text": [
      "5\n"
     ]
    }
   ],
   "source": [
    "#print the position of location element\n",
    "print(list1.index('Thane'))"
   ]
  },
  {
   "cell_type": "code",
   "execution_count": 4,
   "id": "206c8d02",
   "metadata": {},
   "outputs": [
    {
     "name": "stdout",
     "output_type": "stream",
     "text": [
      "[19.1, 'IT', 'S.Y', 21]\n"
     ]
    }
   ],
   "source": [
    "#print the element between age and roll no using forward and backward index\n",
    "list1=['pratham',19.1,'IT','S.Y',21,'Thane']\n",
    "print(list1[1:-1])"
   ]
  },
  {
   "cell_type": "code",
   "execution_count": 5,
   "id": "9f7e3c49",
   "metadata": {},
   "outputs": [
    {
     "name": "stdout",
     "output_type": "stream",
     "text": [
      "['Sarphale', 19.1, 'IT', 'S.Y', 21, 'Thane']\n"
     ]
    }
   ],
   "source": [
    "#eplace the element of name with surname\n",
    "list1[0]='Sarphale'\n",
    "print(list1)"
   ]
  },
  {
   "cell_type": "code",
   "execution_count": 6,
   "id": "d6e9855e",
   "metadata": {},
   "outputs": [
    {
     "name": "stdout",
     "output_type": "stream",
     "text": [
      "['Sarphale', 19, 'C.S', 'S.Y', 21, 'Thane']\n"
     ]
    }
   ],
   "source": [
    "#replace the element of name age and field\n",
    "list1[0:3]=['Sarphale',19,'C.S']\n",
    "print(list1)"
   ]
  },
  {
   "cell_type": "code",
   "execution_count": 7,
   "id": "3faf5616",
   "metadata": {},
   "outputs": [
    {
     "name": "stdout",
     "output_type": "stream",
     "text": [
      "['Sarphale', 'IT', 'S.Y', 21, 'Thane']\n"
     ]
    }
   ],
   "source": [
    "#replace the element of name and age with only surname\n",
    "list1=['pratham',19.1,'IT','S.Y',21,'Thane']\n",
    "list1[0:2]=['Sarphale']\n",
    "print(list1)"
   ]
  },
  {
   "cell_type": "code",
   "execution_count": 19,
   "id": "ce102b8d",
   "metadata": {},
   "outputs": [
    {
     "name": "stdout",
     "output_type": "stream",
     "text": [
      "['P.R.S', 'Sarphale', 19.1, 'IT', 'S.Y', 21, 'Thane']\n"
     ]
    }
   ],
   "source": [
    "#replace the element of name with your nickname and surname\n",
    "list1=['pratham',19.1,'IT','S.Y',21,'Thane']\n",
    "list1[0:1]=['P.R.S','Sarphale']\n",
    "print(list1)"
   ]
  },
  {
   "cell_type": "code",
   "execution_count": 9,
   "id": "783b64d3",
   "metadata": {},
   "outputs": [
    {
     "name": "stdout",
     "output_type": "stream",
     "text": [
      "['pratham', 'sarphale', 19.1, 'IT', 'S.Y', 21, 'Thane']\n"
     ]
    }
   ],
   "source": [
    "#add your surname in the list after your first name\n",
    "list1=['pratham',19.1,'IT','S.Y',21,'Thane']\n",
    "list1.insert(1,'sarphale')\n",
    "print(list1)"
   ]
  },
  {
   "cell_type": "code",
   "execution_count": 10,
   "id": "1a985e63",
   "metadata": {},
   "outputs": [
    {
     "name": "stdout",
     "output_type": "stream",
     "text": [
      "['pratham', 19.1, 'IT', 'S.Y', 21, 'Thane', 'Programming']\n"
     ]
    }
   ],
   "source": [
    "#add your only one hobby at the end of the list\n",
    "list1=['pratham',19.1,'IT','S.Y',21,'Thane']\n",
    "list1.append('Programming')\n",
    "print(list1)"
   ]
  },
  {
   "cell_type": "code",
   "execution_count": 11,
   "id": "e2ddc712",
   "metadata": {},
   "outputs": [
    {
     "name": "stdout",
     "output_type": "stream",
     "text": [
      "['pratham', 19.1, 'IT', 'S.Y', 21, 'Thane', 'swimming', 'cycling', 'reading', 'playing']\n"
     ]
    }
   ],
   "source": [
    "#add your n number of hobbies at the end of the list\n",
    "list1=['pratham',19.1,'IT','S.Y',21,'Thane']\n",
    "list1.extend(['swimming','cycling','reading','playing'])\n",
    "print(list1)"
   ]
  },
  {
   "cell_type": "code",
   "execution_count": 12,
   "id": "b00a8a48",
   "metadata": {},
   "outputs": [
    {
     "name": "stdout",
     "output_type": "stream",
     "text": [
      "['pratham', 19.1, 'IT', 'S.Y', 21]\n"
     ]
    }
   ],
   "source": [
    "#remove your location from the list\n",
    "list1=['pratham',19.1,'IT','S.Y',21,'Thane']\n",
    "list1.remove('Thane')\n",
    "print(list1)"
   ]
  },
  {
   "cell_type": "code",
   "execution_count": 13,
   "id": "0e7f6fe0",
   "metadata": {},
   "outputs": [
    {
     "name": "stdout",
     "output_type": "stream",
     "text": [
      "['pratham', 'IT', 'S.Y', 21, 'Thane']\n"
     ]
    }
   ],
   "source": [
    "#remove your age from list\n",
    "list1=['pratham',19.1,'IT','S.Y',21,'Thane']\n",
    "list1.remove(19.1)\n",
    "print(list1)"
   ]
  },
  {
   "cell_type": "code",
   "execution_count": 25,
   "id": "168feaef",
   "metadata": {},
   "outputs": [
    {
     "name": "stdout",
     "output_type": "stream",
     "text": [
      "['pratham', 'IT', 'S.Y', 21, 'Thane']\n"
     ]
    }
   ],
   "source": [
    "#remove your age from list\n",
    "list1=['pratham',19.1,'IT','S.Y',21,'Thane']\n",
    "del list1[1]\n",
    "print(list1)"
   ]
  },
  {
   "cell_type": "code",
   "execution_count": 26,
   "id": "79a49643",
   "metadata": {},
   "outputs": [
    {
     "name": "stdout",
     "output_type": "stream",
     "text": [
      "[]\n"
     ]
    }
   ],
   "source": [
    "#remove all elements from the list\n",
    "list1=['pratham',19.1,'IT','S.Y',21,'Thane']\n",
    "list1.clear()\n",
    "print(list1)"
   ]
  },
  {
   "cell_type": "code",
   "execution_count": 29,
   "id": "af3397bf",
   "metadata": {},
   "outputs": [
    {
     "ename": "NameError",
     "evalue": "name 'list1' is not defined",
     "output_type": "error",
     "traceback": [
      "\u001b[1;31m---------------------------------------------------------------------------\u001b[0m",
      "\u001b[1;31mNameError\u001b[0m                                 Traceback (most recent call last)",
      "\u001b[1;32mC:\\Users\\PRATHA~1.SAR\\AppData\\Local\\Temp/ipykernel_11564/1671780653.py\u001b[0m in \u001b[0;36m<module>\u001b[1;34m\u001b[0m\n\u001b[0;32m      1\u001b[0m \u001b[0mlist1\u001b[0m\u001b[1;33m=\u001b[0m\u001b[1;33m[\u001b[0m\u001b[1;34m'pratham'\u001b[0m\u001b[1;33m,\u001b[0m\u001b[1;36m19.1\u001b[0m\u001b[1;33m,\u001b[0m\u001b[1;34m'IT'\u001b[0m\u001b[1;33m,\u001b[0m\u001b[1;34m'S.Y'\u001b[0m\u001b[1;33m,\u001b[0m\u001b[1;36m21\u001b[0m\u001b[1;33m,\u001b[0m\u001b[1;34m'Thane'\u001b[0m\u001b[1;33m]\u001b[0m\u001b[1;33m\u001b[0m\u001b[1;33m\u001b[0m\u001b[0m\n\u001b[0;32m      2\u001b[0m \u001b[1;32mdel\u001b[0m \u001b[0mlist1\u001b[0m\u001b[1;33m\u001b[0m\u001b[1;33m\u001b[0m\u001b[0m\n\u001b[1;32m----> 3\u001b[1;33m \u001b[0mprint\u001b[0m\u001b[1;33m(\u001b[0m\u001b[0mlist1\u001b[0m\u001b[1;33m)\u001b[0m\u001b[1;33m\u001b[0m\u001b[1;33m\u001b[0m\u001b[0m\n\u001b[0m",
      "\u001b[1;31mNameError\u001b[0m: name 'list1' is not defined"
     ]
    }
   ],
   "source": [
    "#delete the list;the name error occurs because the list has been deleted\n",
    "list1=['pratham',19.1,'IT','S.Y',21,'Thane']\n",
    "del list1\n",
    "print(list1)"
   ]
  },
  {
   "cell_type": "code",
   "execution_count": 30,
   "id": "aa486a44",
   "metadata": {},
   "outputs": [
    {
     "data": {
      "text/plain": [
       "9"
      ]
     },
     "execution_count": 30,
     "metadata": {},
     "output_type": "execute_result"
    }
   ],
   "source": [
    "#create a list of prime numbers till 20 and find the length of it\n",
    "list2=[1,2,3,5,7,11,13,17,19]\n",
    "len(list2)"
   ]
  },
  {
   "cell_type": "code",
   "execution_count": 31,
   "id": "8eb2a4ad",
   "metadata": {},
   "outputs": [
    {
     "data": {
      "text/plain": [
       "19"
      ]
     },
     "execution_count": 31,
     "metadata": {},
     "output_type": "execute_result"
    }
   ],
   "source": [
    "#print largest number from the list\n",
    "max(list2)"
   ]
  },
  {
   "cell_type": "code",
   "execution_count": 32,
   "id": "d88e8c42",
   "metadata": {},
   "outputs": [
    {
     "data": {
      "text/plain": [
       "1"
      ]
     },
     "execution_count": 32,
     "metadata": {},
     "output_type": "execute_result"
    }
   ],
   "source": [
    "#print smallest number from the list\n",
    "min(list2)"
   ]
  },
  {
   "cell_type": "code",
   "execution_count": 35,
   "id": "2160bf2a",
   "metadata": {},
   "outputs": [
    {
     "data": {
      "text/plain": [
       "78"
      ]
     },
     "execution_count": 35,
     "metadata": {},
     "output_type": "execute_result"
    }
   ],
   "source": [
    "#print sum of prime numbers till 20\n",
    "sum(list2)"
   ]
  },
  {
   "cell_type": "code",
   "execution_count": 41,
   "id": "31ec781c",
   "metadata": {},
   "outputs": [
    {
     "data": {
      "text/plain": [
       "True"
      ]
     },
     "execution_count": 41,
     "metadata": {},
     "output_type": "execute_result"
    }
   ],
   "source": [
    "#create list using numbers and booleans and apply functions of all\n",
    "list3=[True,1,1]\n",
    "all(list3)"
   ]
  },
  {
   "cell_type": "code",
   "execution_count": 43,
   "id": "7cdbfc10",
   "metadata": {},
   "outputs": [
    {
     "data": {
      "text/plain": [
       "False"
      ]
     },
     "execution_count": 43,
     "metadata": {},
     "output_type": "execute_result"
    }
   ],
   "source": [
    "list3=[True,0,1]\n",
    "all(list3)"
   ]
  },
  {
   "cell_type": "code",
   "execution_count": 44,
   "id": "a71f15fc",
   "metadata": {},
   "outputs": [
    {
     "data": {
      "text/plain": [
       "False"
      ]
     },
     "execution_count": 44,
     "metadata": {},
     "output_type": "execute_result"
    }
   ],
   "source": [
    "list3=[0,0,0]\n",
    "all(list3)"
   ]
  },
  {
   "cell_type": "code",
   "execution_count": 45,
   "id": "2d9b698a",
   "metadata": {},
   "outputs": [
    {
     "data": {
      "text/plain": [
       "True"
      ]
     },
     "execution_count": 45,
     "metadata": {},
     "output_type": "execute_result"
    }
   ],
   "source": [
    "list3=[]\n",
    "all(list3)"
   ]
  },
  {
   "cell_type": "code",
   "execution_count": 46,
   "id": "513164f4",
   "metadata": {},
   "outputs": [
    {
     "data": {
      "text/plain": [
       "True"
      ]
     },
     "execution_count": 46,
     "metadata": {},
     "output_type": "execute_result"
    }
   ],
   "source": [
    "#create list using numbers and booleans and apply functions of any\n",
    "list3=[True,1,1]\n",
    "any(list3)"
   ]
  },
  {
   "cell_type": "code",
   "execution_count": 47,
   "id": "b4ce5244",
   "metadata": {},
   "outputs": [
    {
     "data": {
      "text/plain": [
       "True"
      ]
     },
     "execution_count": 47,
     "metadata": {},
     "output_type": "execute_result"
    }
   ],
   "source": [
    "list3=[True,0,1]\n",
    "any(list3)"
   ]
  },
  {
   "cell_type": "code",
   "execution_count": 48,
   "id": "deec7737",
   "metadata": {},
   "outputs": [
    {
     "data": {
      "text/plain": [
       "False"
      ]
     },
     "execution_count": 48,
     "metadata": {},
     "output_type": "execute_result"
    }
   ],
   "source": [
    "list3=[0,0,0]\n",
    "any(list3)"
   ]
  },
  {
   "cell_type": "code",
   "execution_count": 49,
   "id": "7283333b",
   "metadata": {},
   "outputs": [
    {
     "data": {
      "text/plain": [
       "False"
      ]
     },
     "execution_count": 49,
     "metadata": {},
     "output_type": "execute_result"
    }
   ],
   "source": [
    "list3=[]\n",
    "any(list3)"
   ]
  },
  {
   "cell_type": "code",
   "execution_count": 50,
   "id": "df1567b0",
   "metadata": {},
   "outputs": [
    {
     "name": "stdout",
     "output_type": "stream",
     "text": [
      "[2, 5, 7, 12, 18]\n"
     ]
    }
   ],
   "source": [
    "#create list of 5,2,18,7,12 and print in ascending order\n",
    "list4=[5,2,18,7,12]\n",
    "list4.sort()\n",
    "print(list4)"
   ]
  },
  {
   "cell_type": "code",
   "execution_count": 60,
   "id": "847c5aca",
   "metadata": {},
   "outputs": [
    {
     "name": "stdout",
     "output_type": "stream",
     "text": [
      "[12, 7, 18, 2, 5]\n"
     ]
    }
   ],
   "source": [
    "#create list of 5,2,18,7,12 and print in reverse order\n",
    "list4=[5,2,18,7,12]\n",
    "list4.reverse()\n",
    "print(list4)"
   ]
  },
  {
   "cell_type": "code",
   "execution_count": 92,
   "id": "41201fb3",
   "metadata": {},
   "outputs": [
    {
     "name": "stdout",
     "output_type": "stream",
     "text": [
      "[1, 2, 3, 4, 5, 6, 7, 8]\n"
     ]
    }
   ],
   "source": [
    "#merge two lists using 2 methods\n",
    "list5=[1,2,3,4]+[5,6,7,8]\n",
    "print(list5)"
   ]
  },
  {
   "cell_type": "code",
   "execution_count": 95,
   "id": "2e724866",
   "metadata": {},
   "outputs": [
    {
     "name": "stdout",
     "output_type": "stream",
     "text": [
      "[1, 2, 3, 4, 5, 6, 7, 8]\n"
     ]
    }
   ],
   "source": [
    "#merge two lists using 2 methodslist5=[1,2,3,4]\n",
    "list6=[5,6,7,8]\n",
    "list5.extend(list6)\n",
    "print(list5)"
   ]
  },
  {
   "cell_type": "code",
   "execution_count": 68,
   "id": "50aebaad",
   "metadata": {},
   "outputs": [
    {
     "name": "stdout",
     "output_type": "stream",
     "text": [
      "[5, 7, 11, 13, 17, 19, 23, 29]\n"
     ]
    }
   ],
   "source": [
    "#make a deep copy of list and check whether it iscopying deeply or not\n",
    "list5=[12, 7, 18, 2, 5, 1, 2, 3] \n",
    "list6=[5, 7, 11, 13, 17, 19, 23]\n",
    "list5=list6\n",
    "list5.append(29)\n",
    "print(list6)"
   ]
  },
  {
   "cell_type": "code",
   "execution_count": 73,
   "id": "41f68007",
   "metadata": {},
   "outputs": [],
   "source": [
    "#mkae a copy of list in that way making changes in one list will not affect to the another list\n",
    "list5=[12, 7, 18, 2, 5, 1, 2, 3]\n",
    "list6=[5, 7, 11, 13, 17, 19, 23]\n",
    "c=list5.copy()"
   ]
  },
  {
   "cell_type": "code",
   "execution_count": 77,
   "id": "9d94ee8c",
   "metadata": {},
   "outputs": [
    {
     "name": "stdout",
     "output_type": "stream",
     "text": [
      "[1, 2, 3, 4, 5]\n"
     ]
    }
   ],
   "source": [
    "#take any example to explain stack\n",
    "list7=[1,2,3,4]\n",
    "list7.append(5)#last in \n",
    "print(list7)"
   ]
  },
  {
   "cell_type": "code",
   "execution_count": 78,
   "id": "f0e75361",
   "metadata": {},
   "outputs": [
    {
     "data": {
      "text/plain": [
       "5"
      ]
     },
     "execution_count": 78,
     "metadata": {},
     "output_type": "execute_result"
    }
   ],
   "source": [
    "list7.pop()#frist out"
   ]
  },
  {
   "cell_type": "code",
   "execution_count": 79,
   "id": "f2a30981",
   "metadata": {
    "scrolled": true
   },
   "outputs": [
    {
     "name": "stdout",
     "output_type": "stream",
     "text": [
      "[1, 2, 3, 4, 5]\n"
     ]
    }
   ],
   "source": [
    "#take any example to explain queue\n",
    "list7=[1,2,3,4]\n",
    "list7.append(5)#first in\n",
    "print(list7)"
   ]
  },
  {
   "cell_type": "code",
   "execution_count": 80,
   "id": "ca091042",
   "metadata": {},
   "outputs": [
    {
     "data": {
      "text/plain": [
       "1"
      ]
     },
     "execution_count": 80,
     "metadata": {},
     "output_type": "execute_result"
    }
   ],
   "source": [
    "list7.pop(0)#first element gets out"
   ]
  },
  {
   "cell_type": "code",
   "execution_count": 1,
   "id": "cdfa13f3",
   "metadata": {},
   "outputs": [
    {
     "name": "stdout",
     "output_type": "stream",
     "text": [
      "[(1, 2, 3, 4), ('pratham', 'suraj', 'hrishikesh', 'yash'), (19, 18, 19, 19), (21, 22, 23, 24)]\n"
     ]
    }
   ],
   "source": [
    "#zip four list contained with natural number,your name,age,roll no.\n",
    "a=[1,'pratham',19,21]\n",
    "b=[2,'suraj',18,22]\n",
    "c=[3,'hrishikesh',19,23]\n",
    "d=[4,'yash',19,24]\n",
    "mapped=zip(a,b,c,d)\n",
    "mapped=list(mapped)\n",
    "print(mapped)"
   ]
  },
  {
   "cell_type": "code",
   "execution_count": 2,
   "id": "3cf64708",
   "metadata": {},
   "outputs": [
    {
     "name": "stdout",
     "output_type": "stream",
     "text": [
      "(1, 'pratham', 19, 21)\n",
      "(2, 'suraj', 18, 22)\n",
      "(3, 'hrishikesh', 19, 23)\n",
      "(4, 'yash', 19, 24)\n"
     ]
    }
   ],
   "source": [
    "#unzip the above list\n",
    "ae,be,ce,de=zip(*mapped)\n",
    "print(ae)\n",
    "print(be)\n",
    "print(ce)\n",
    "print(de)"
   ]
  }
 ],
 "metadata": {
  "kernelspec": {
   "display_name": "Python 3 (ipykernel)",
   "language": "python",
   "name": "python3"
  },
  "language_info": {
   "codemirror_mode": {
    "name": "ipython",
    "version": 3
   },
   "file_extension": ".py",
   "mimetype": "text/x-python",
   "name": "python",
   "nbconvert_exporter": "python",
   "pygments_lexer": "ipython3",
   "version": "3.9.7"
  }
 },
 "nbformat": 4,
 "nbformat_minor": 5
}
