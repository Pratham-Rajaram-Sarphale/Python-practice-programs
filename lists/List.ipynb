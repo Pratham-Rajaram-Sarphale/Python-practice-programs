{
 "cells": [
  {
   "cell_type": "code",
   "execution_count": 1,
   "id": "f280eb6a",
   "metadata": {},
   "outputs": [
    {
     "name": "stdout",
     "output_type": "stream",
     "text": [
      "40\n"
     ]
    }
   ],
   "source": [
    "#accessing items\n",
    "list1=['abc',34,'True',40,'male']\n",
    "print(list1[-2])"
   ]
  },
  {
   "cell_type": "code",
   "execution_count": 2,
   "id": "434a1f01",
   "metadata": {},
   "outputs": [
    {
     "data": {
      "text/plain": [
       "3"
      ]
     },
     "execution_count": 2,
     "metadata": {},
     "output_type": "execute_result"
    }
   ],
   "source": [
    "list1.index(40)"
   ]
  },
  {
   "cell_type": "code",
   "execution_count": 3,
   "id": "07a6c97e",
   "metadata": {},
   "outputs": [
    {
     "name": "stdout",
     "output_type": "stream",
     "text": [
      "['abc', 34, 'True', 40, 'male']\n"
     ]
    }
   ],
   "source": [
    "print(list1[0:])"
   ]
  },
  {
   "cell_type": "code",
   "execution_count": 4,
   "id": "49693105",
   "metadata": {},
   "outputs": [
    {
     "name": "stdout",
     "output_type": "stream",
     "text": [
      "[34, 'True', 40]\n"
     ]
    }
   ],
   "source": [
    "print(list1[-4:-1])"
   ]
  },
  {
   "cell_type": "code",
   "execution_count": 5,
   "id": "3d54b200",
   "metadata": {},
   "outputs": [
    {
     "name": "stdout",
     "output_type": "stream",
     "text": [
      "['male', 'True']\n"
     ]
    }
   ],
   "source": [
    "print(list1[-1:-4:-2])"
   ]
  },
  {
   "cell_type": "code",
   "execution_count": 6,
   "id": "fc59b178",
   "metadata": {},
   "outputs": [
    {
     "data": {
      "text/plain": [
       "['abc', 34, 'True', 40, 'male', 'abc', 34, 'True', 40, 'male']"
      ]
     },
     "execution_count": 6,
     "metadata": {},
     "output_type": "execute_result"
    }
   ],
   "source": [
    "list1*2"
   ]
  },
  {
   "cell_type": "code",
   "execution_count": 16,
   "id": "387cf199",
   "metadata": {},
   "outputs": [
    {
     "data": {
      "text/plain": [
       "10"
      ]
     },
     "execution_count": 16,
     "metadata": {},
     "output_type": "execute_result"
    }
   ],
   "source": [
    "num=[10,20,30]\n",
    "num[0]"
   ]
  },
  {
   "cell_type": "code",
   "execution_count": 17,
   "id": "4c8c2f78",
   "metadata": {},
   "outputs": [
    {
     "name": "stdout",
     "output_type": "stream",
     "text": [
      "[1, 2, 30]\n"
     ]
    }
   ],
   "source": [
    "a=num[0:2]=[1,2]\n",
    "print(num)"
   ]
  },
  {
   "cell_type": "code",
   "execution_count": 21,
   "id": "4ba70c95",
   "metadata": {},
   "outputs": [
    {
     "name": "stdout",
     "output_type": "stream",
     "text": [
      "[1, 2, 3, 3, 2, 30]\n"
     ]
    }
   ],
   "source": [
    "#overriding\n",
    "b=num[0:1]=[1,2,3]\n",
    "print(num)"
   ]
  },
  {
   "cell_type": "code",
   "execution_count": 19,
   "id": "6ab3ee0a",
   "metadata": {},
   "outputs": [
    {
     "name": "stdout",
     "output_type": "stream",
     "text": [
      "[20, 3, 2, 30]\n"
     ]
    }
   ],
   "source": [
    "#overriding\n",
    "c=num[0:2]=[20]\n",
    "print(num)"
   ]
  },
  {
   "cell_type": "code",
   "execution_count": 22,
   "id": "5d8efeb7",
   "metadata": {},
   "outputs": [
    {
     "name": "stdout",
     "output_type": "stream",
     "text": [
      "['apple', ['watermelon', 'kiwi'], 'cherry']\n"
     ]
    }
   ],
   "source": [
    "#handling nested lists\n",
    "new=['apple','banana','cherry']\n",
    "a=new[1]=['watermelon','kiwi']\n",
    "print(new)"
   ]
  },
  {
   "cell_type": "code",
   "execution_count": 23,
   "id": "8573bc73",
   "metadata": {},
   "outputs": [
    {
     "name": "stdout",
     "output_type": "stream",
     "text": [
      "['apple', [['jackfruit', 'pear'], 'kiwi'], 'cherry']\n"
     ]
    }
   ],
   "source": [
    "new[1][0]=['jackfruit','pear']\n",
    "print(new)"
   ]
  },
  {
   "cell_type": "code",
   "execution_count": 24,
   "id": "55abf73f",
   "metadata": {},
   "outputs": [
    {
     "name": "stdout",
     "output_type": "stream",
     "text": [
      "[['jackfruit', 'pear'], 'kiwi']\n"
     ]
    }
   ],
   "source": [
    "print(new[1])"
   ]
  },
  {
   "cell_type": "code",
   "execution_count": 25,
   "id": "492d2d2f",
   "metadata": {},
   "outputs": [
    {
     "name": "stdout",
     "output_type": "stream",
     "text": [
      "f\n"
     ]
    }
   ],
   "source": [
    "print(new[1][0][0][-5])"
   ]
  }
 ],
 "metadata": {
  "kernelspec": {
   "display_name": "Python 3 (ipykernel)",
   "language": "python",
   "name": "python3"
  },
  "language_info": {
   "codemirror_mode": {
    "name": "ipython",
    "version": 3
   },
   "file_extension": ".py",
   "mimetype": "text/x-python",
   "name": "python",
   "nbconvert_exporter": "python",
   "pygments_lexer": "ipython3",
   "version": "3.9.7"
  }
 },
 "nbformat": 4,
 "nbformat_minor": 5
}
