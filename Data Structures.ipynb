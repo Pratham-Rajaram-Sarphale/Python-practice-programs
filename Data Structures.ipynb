{
 "cells": [
  {
   "cell_type": "code",
   "execution_count": 8,
   "id": "3a3ab620",
   "metadata": {},
   "outputs": [
    {
     "data": {
      "text/plain": [
       "(4, 3, 2, 1)"
      ]
     },
     "execution_count": 8,
     "metadata": {},
     "output_type": "execute_result"
    }
   ],
   "source": [
    "tup1=(1,2,3,4)\n",
    "tup1[-1:-5:-1]"
   ]
  },
  {
   "cell_type": "code",
   "execution_count": 11,
   "id": "9bd3cae4",
   "metadata": {},
   "outputs": [
    {
     "data": {
      "text/plain": [
       "20"
      ]
     },
     "execution_count": 11,
     "metadata": {},
     "output_type": "execute_result"
    }
   ],
   "source": [
    "tup2=('orange',[10,20,30],(5,15,25))\n",
    "tup2[1][1]"
   ]
  },
  {
   "cell_type": "code",
   "execution_count": 12,
   "id": "d00ca074",
   "metadata": {},
   "outputs": [
    {
     "name": "stdout",
     "output_type": "stream",
     "text": [
      "50\n"
     ]
    }
   ],
   "source": [
    "tup3=(50)\n",
    "print(tup3)"
   ]
  },
  {
   "cell_type": "code",
   "execution_count": 59,
   "id": "359cebbf",
   "metadata": {},
   "outputs": [
    {
     "name": "stdout",
     "output_type": "stream",
     "text": [
      "10\n",
      "20\n",
      "30\n",
      "40\n"
     ]
    }
   ],
   "source": [
    "Tuple=(10,20,30,40)\n",
    "a,b,c,d= Tuple\n",
    "print(a)\n",
    "print(b)\n",
    "print(c)\n",
    "print(d)"
   ]
  },
  {
   "cell_type": "code",
   "execution_count": 14,
   "id": "8f590e4f",
   "metadata": {},
   "outputs": [
    {
     "name": "stdout",
     "output_type": "stream",
     "text": [
      "(99, 88) (11, 22)\n"
     ]
    }
   ],
   "source": [
    "t1=(11,22)\n",
    "t2=(99,88)\n",
    "t1,t2=t2,t1\n",
    "print(t1,t2)"
   ]
  },
  {
   "cell_type": "code",
   "execution_count": 19,
   "id": "a2bac0d7",
   "metadata": {
    "scrolled": true
   },
   "outputs": [
    {
     "name": "stdout",
     "output_type": "stream",
     "text": [
      "(11, [222, 33], 44, 55)\n"
     ]
    }
   ],
   "source": [
    "tuple1=(11,[22,33],44,55)\n",
    "a=list(tuple1)\n",
    "a[1][0]=222\n",
    "print(tuple(a))"
   ]
  },
  {
   "cell_type": "code",
   "execution_count": 20,
   "id": "a9fa2cc3",
   "metadata": {},
   "outputs": [
    {
     "name": "stdout",
     "output_type": "stream",
     "text": [
      "2\n"
     ]
    }
   ],
   "source": [
    "tuple1=(10,20,50,20,40,50)\n",
    "a=tuple1.count(50)\n",
    "print(a)"
   ]
  },
  {
   "cell_type": "code",
   "execution_count": 51,
   "id": "b9223d1e",
   "metadata": {},
   "outputs": [
    {
     "name": "stdout",
     "output_type": "stream",
     "text": [
      "(1, 3, 8)\n",
      "(2, 4, 9)\n"
     ]
    }
   ],
   "source": [
    "l=[(1,2),(3,4),(8,9)]\n",
    "a,b=zip(*l)\n",
    "print(a)\n",
    "print(b)"
   ]
  },
  {
   "cell_type": "code",
   "execution_count": 24,
   "id": "c00837d6",
   "metadata": {},
   "outputs": [
    {
     "name": "stdout",
     "output_type": "stream",
     "text": [
      "(20, 50, 20, 40, 50)\n"
     ]
    }
   ],
   "source": [
    "tuple1=(10,20,50,20,40,50)\n",
    "tuple1=list(tuple1)\n",
    "tuple1.remove(10)\n",
    "print(tuple(tuple1))"
   ]
  },
  {
   "cell_type": "code",
   "execution_count": 27,
   "id": "f497229e",
   "metadata": {},
   "outputs": [
    {
     "name": "stdout",
     "output_type": "stream",
     "text": [
      "d bc\n"
     ]
    }
   ],
   "source": [
    "tuple1=('a','b','c','d','ab','bc','cd','ef','fg')\n",
    "a=tuple1[3]\n",
    "b=tuple1[-4]\n",
    "print(a,b)"
   ]
  },
  {
   "cell_type": "code",
   "execution_count": 39,
   "id": "c3b727ae",
   "metadata": {
    "scrolled": true
   },
   "outputs": [
    {
     "name": "stdout",
     "output_type": "stream",
     "text": [
      "exercise\n"
     ]
    }
   ],
   "source": [
    "#Tuple=('e','x','e','r','c','i','s','e')\n",
    "tup = \"\".join(Tuple)\n",
    "print(tup)"
   ]
  },
  {
   "cell_type": "code",
   "execution_count": 33,
   "id": "88934503",
   "metadata": {},
   "outputs": [
    {
     "name": "stdout",
     "output_type": "stream",
     "text": [
      "1\n",
      "4\n"
     ]
    }
   ],
   "source": [
    "seta={1,2,3,4}\n",
    "print(min(seta))\n",
    "print(max(seta))"
   ]
  },
  {
   "cell_type": "code",
   "execution_count": 34,
   "id": "99e264f7",
   "metadata": {},
   "outputs": [
    {
     "name": "stdout",
     "output_type": "stream",
     "text": [
      "{3, 4}\n"
     ]
    }
   ],
   "source": [
    "seta={1,2,3,4}\n",
    "setb={3,4,5,6}\n",
    "print(seta.intersection(setb))"
   ]
  },
  {
   "cell_type": "code",
   "execution_count": 35,
   "id": "bfd2c5ed",
   "metadata": {},
   "outputs": [
    {
     "name": "stdout",
     "output_type": "stream",
     "text": [
      "{1, 2}\n"
     ]
    }
   ],
   "source": [
    "print(seta.difference(setb))"
   ]
  },
  {
   "cell_type": "code",
   "execution_count": 36,
   "id": "59758772",
   "metadata": {},
   "outputs": [
    {
     "name": "stdout",
     "output_type": "stream",
     "text": [
      "{1, 2, 5, 6}\n"
     ]
    }
   ],
   "source": [
    "print(seta.symmetric_difference(setb))"
   ]
  },
  {
   "cell_type": "code",
   "execution_count": 38,
   "id": "9849f5b1",
   "metadata": {},
   "outputs": [
    {
     "name": "stdout",
     "output_type": "stream",
     "text": [
      "False\n"
     ]
    }
   ],
   "source": [
    "print(seta.isdisjoint(setb))"
   ]
  },
  {
   "cell_type": "code",
   "execution_count": 40,
   "id": "7eeeeaeb",
   "metadata": {},
   "outputs": [
    {
     "name": "stdout",
     "output_type": "stream",
     "text": [
      "True\n",
      "False\n"
     ]
    }
   ],
   "source": [
    "u={1,2,3,4,5,6,7,8,9,10}\n",
    "a={2,4,6,8,10}\n",
    "print(a.issubset(u))\n",
    "print(u.issubset(a))"
   ]
  },
  {
   "cell_type": "code",
   "execution_count": 42,
   "id": "f1a12d9b",
   "metadata": {},
   "outputs": [
    {
     "name": "stdout",
     "output_type": "stream",
     "text": [
      "{'orange', 'yellow', 'blue', 'red', 'black', 'green'}\n"
     ]
    }
   ],
   "source": [
    "setz={'yellow','orange','black'}\n",
    "list1=['blue','green','red']\n",
    "setz.update(list1)\n",
    "print(setz)"
   ]
  },
  {
   "cell_type": "code",
   "execution_count": 45,
   "id": "07bed9c7",
   "metadata": {},
   "outputs": [
    {
     "name": "stdout",
     "output_type": "stream",
     "text": [
      "{1, 3, 5, 7, 9}\n"
     ]
    }
   ],
   "source": [
    "#\n",
    "u={1,2,3,4,5,6,7,8,9,10}\n",
    "a={2,4,6,8,10}\n",
    "z=u.symmetric_difference(a)\n",
    "print(z)"
   ]
  },
  {
   "cell_type": "code",
   "execution_count": 2,
   "id": "1c31d7e1",
   "metadata": {},
   "outputs": [
    {
     "name": "stdout",
     "output_type": "stream",
     "text": [
      "{2, 4, 6, 8, 10}\n"
     ]
    }
   ],
   "source": [
    "u={1,2,3,4,5,6,7,8,9,10}\n",
    "a={2,4,6,8,10}\n",
    "z=a.copy()\n",
    "print(z)"
   ]
  },
  {
   "cell_type": "code",
   "execution_count": 3,
   "id": "a7df4b88",
   "metadata": {},
   "outputs": [
    {
     "name": "stdout",
     "output_type": "stream",
     "text": [
      "2\n"
     ]
    }
   ],
   "source": [
    "x=a.pop()\n",
    "print(x)"
   ]
  },
  {
   "cell_type": "code",
   "execution_count": 4,
   "id": "c06bc180",
   "metadata": {},
   "outputs": [
    {
     "name": "stdout",
     "output_type": "stream",
     "text": [
      "{6, 8, 10}\n"
     ]
    }
   ],
   "source": [
    "a.remove(4)\n",
    "print(a)"
   ]
  }
 ],
 "metadata": {
  "kernelspec": {
   "display_name": "Python 3 (ipykernel)",
   "language": "python",
   "name": "python3"
  },
  "language_info": {
   "codemirror_mode": {
    "name": "ipython",
    "version": 3
   },
   "file_extension": ".py",
   "mimetype": "text/x-python",
   "name": "python",
   "nbconvert_exporter": "python",
   "pygments_lexer": "ipython3",
   "version": "3.9.7"
  }
 },
 "nbformat": 4,
 "nbformat_minor": 5
}
