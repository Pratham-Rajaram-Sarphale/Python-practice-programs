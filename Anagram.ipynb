{
 "cells": [
  {
   "cell_type": "code",
   "execution_count": 1,
   "id": "82d4be33",
   "metadata": {},
   "outputs": [
    {
     "name": "stdout",
     "output_type": "stream",
     "text": [
      "Enter any word:a gentleman\n",
      "Enter another word:elegant man\n",
      "a gentleman and elegant man is an anagram\n"
     ]
    }
   ],
   "source": [
    "#Check if two strings are anagram or not.\n",
    "a=input('Enter any word:')\n",
    "b=input('Enter another word:')\n",
    "if len(a)== len(b):\n",
    "    a=a.lower()\n",
    "    b=b.lower()\n",
    "    sort1=sorted(a)\n",
    "    sort2=sorted(b)\n",
    "    if sort1==sort2:\n",
    "        print(a,'and',b,'is an anagram')\n",
    "    else: print(a,'and',b,'is not an anagram') \n",
    "else:print('Not an anagram')"
   ]
  }
 ],
 "metadata": {
  "kernelspec": {
   "display_name": "Python 3 (ipykernel)",
   "language": "python",
   "name": "python3"
  },
  "language_info": {
   "codemirror_mode": {
    "name": "ipython",
    "version": 3
   },
   "file_extension": ".py",
   "mimetype": "text/x-python",
   "name": "python",
   "nbconvert_exporter": "python",
   "pygments_lexer": "ipython3",
   "version": "3.9.7"
  }
 },
 "nbformat": 4,
 "nbformat_minor": 5
}
