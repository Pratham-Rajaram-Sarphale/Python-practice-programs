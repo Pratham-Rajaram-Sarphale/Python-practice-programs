{
 "cells": [
  {
   "cell_type": "code",
   "execution_count": 5,
   "id": "8f4f28cc",
   "metadata": {},
   "outputs": [
    {
     "name": "stdout",
     "output_type": "stream",
     "text": [
      "[28, 40]\n",
      "[34, 49]\n",
      "[40, 58]\n",
      "[46, 67]\n"
     ]
    }
   ],
   "source": [
    "#Program to find the transpose of a matrix\n",
    "x=[[1,2,3],\n",
    "  [2,3,4]]\n",
    "y=[[2,3,4,5],\n",
    "  [4,5,6,7],\n",
    "  [6,7,8,9]]\n",
    "result=[[0,0],\n",
    "       [0,0],\n",
    "       [0,0],\n",
    "       [0,0]]\n",
    "for i in range(len(x)):\n",
    "    for j in range(len(y[0])):\n",
    "        for k in range(len(y)):\n",
    "            result[j][i]+=x[i][k]*y[k][j]\n",
    "for r in result:\n",
    "    print(r)"
   ]
  }
 ],
 "metadata": {
  "kernelspec": {
   "display_name": "Python 3 (ipykernel)",
   "language": "python",
   "name": "python3"
  },
  "language_info": {
   "codemirror_mode": {
    "name": "ipython",
    "version": 3
   },
   "file_extension": ".py",
   "mimetype": "text/x-python",
   "name": "python",
   "nbconvert_exporter": "python",
   "pygments_lexer": "ipython3",
   "version": "3.9.7"
  }
 },
 "nbformat": 4,
 "nbformat_minor": 5
}
