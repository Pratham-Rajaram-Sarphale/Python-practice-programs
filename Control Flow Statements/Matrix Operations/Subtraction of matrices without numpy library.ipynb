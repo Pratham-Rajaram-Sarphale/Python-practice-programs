{
 "cells": [
  {
   "cell_type": "code",
   "execution_count": 2,
   "id": "cebf195a",
   "metadata": {},
   "outputs": [
    {
     "name": "stdout",
     "output_type": "stream",
     "text": [
      "[8, 6, 4, 2]\n",
      "[6, 4, 2, 0]\n",
      "[4, 2, 0, -2]\n",
      "[2, 0, -2, -4]\n",
      "[[8, 6, 4, 2], [6, 4, 2, 0], [4, 2, 0, -2], [2, 0, -2, -4]]\n"
     ]
    }
   ],
   "source": [
    "#Program to subtract matrix of 4*4 using nested loop and list comprehension\n",
    "x=[[9,8,7,6],\n",
    "  [8,7,6,5],\n",
    "  [7,6,5,4],\n",
    "  [6,5,4,3]]\n",
    "y=[[1,2,3,4],\n",
    "  [2,3,4,5],\n",
    "  [3,4,5,6],\n",
    "  [4,5,6,7]]\n",
    "result=[[0,0,0,0],\n",
    "       [0,0,0,0],\n",
    "       [0,0,0,0],\n",
    "       [0,0,0,0]]\n",
    "for i in range(len(x)):\n",
    "    for j in range(len(x)):\n",
    "        result[i][j]=x[i][j]-y[i][j]\n",
    "for r in result:\n",
    "    print(r)\n",
    "result=[[x[i][j]-y[i][j]for j in range(len(x))]for i in range(len(x))]\n",
    "print(result)"
   ]
  }
 ],
 "metadata": {
  "kernelspec": {
   "display_name": "Python 3 (ipykernel)",
   "language": "python",
   "name": "python3"
  },
  "language_info": {
   "codemirror_mode": {
    "name": "ipython",
    "version": 3
   },
   "file_extension": ".py",
   "mimetype": "text/x-python",
   "name": "python",
   "nbconvert_exporter": "python",
   "pygments_lexer": "ipython3",
   "version": "3.9.7"
  }
 },
 "nbformat": 4,
 "nbformat_minor": 5
}
