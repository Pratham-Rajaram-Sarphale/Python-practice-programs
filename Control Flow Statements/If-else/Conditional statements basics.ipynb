{
 "cells": [
  {
   "cell_type": "code",
   "execution_count": 1,
   "id": "b0ec4cf5",
   "metadata": {},
   "outputs": [
    {
     "name": "stdout",
     "output_type": "stream",
     "text": [
      "Enter a number:126\n",
      "126 is an even number.\n"
     ]
    }
   ],
   "source": [
    "a=int(input('Enter a number:'))\n",
    "if a %2 ==0 :\n",
    "    print(a,\"is an even number.\")"
   ]
  },
  {
   "cell_type": "code",
   "execution_count": 2,
   "id": "fb1291a4",
   "metadata": {},
   "outputs": [
    {
     "name": "stdout",
     "output_type": "stream",
     "text": [
      "Enter a number:45\n",
      "the number is positive\n"
     ]
    }
   ],
   "source": [
    "a=int(input('Enter a number:'))\n",
    "if a>0:\n",
    "    print('the number is positive')"
   ]
  },
  {
   "cell_type": "code",
   "execution_count": 3,
   "id": "4ba81532",
   "metadata": {},
   "outputs": [
    {
     "name": "stdout",
     "output_type": "stream",
     "text": [
      "Enter a number:-21\n",
      "the number is negative\n"
     ]
    }
   ],
   "source": [
    "a=int(input('Enter a number:'))\n",
    "if a>0:\n",
    "    print('the number is positive')\n",
    "else:\n",
    "    print('the number is negative')"
   ]
  },
  {
   "cell_type": "code",
   "execution_count": 4,
   "id": "44f2dd37",
   "metadata": {},
   "outputs": [
    {
     "name": "stdout",
     "output_type": "stream",
     "text": [
      "Enter a number:0\n",
      "the number is equal to 0\n"
     ]
    }
   ],
   "source": [
    "a=int(input('Enter a number:'))\n",
    "if a>0:\n",
    "    print('the number is positive')\n",
    "elif a==0:\n",
    "    print('the number is equal to 0')\n",
    "else:\n",
    "    print('the number is negative')\n",
    "    "
   ]
  },
  {
   "cell_type": "code",
   "execution_count": 1,
   "id": "15d915fa",
   "metadata": {},
   "outputs": [
    {
     "name": "stdout",
     "output_type": "stream",
     "text": [
      "Enter a number:45\n",
      "45 is an odd number.\n"
     ]
    }
   ],
   "source": [
    "a=int(input('Enter a number:'))\n",
    "if a %2 ==0 :\n",
    "    print(a,\"is an even number.\")\n",
    "else:\n",
    "    print(a,'is an odd number.')"
   ]
  },
  {
   "cell_type": "code",
   "execution_count": 2,
   "id": "63062dff",
   "metadata": {},
   "outputs": [
    {
     "name": "stdout",
     "output_type": "stream",
     "text": [
      "list is full\n"
     ]
    }
   ],
   "source": [
    "a=[1,2,3,4]\n",
    "if len(a)==0:\n",
    "    print('list is empty')\n",
    "else: \n",
    "    print('list is full')"
   ]
  },
  {
   "cell_type": "code",
   "execution_count": 3,
   "id": "963f51f2",
   "metadata": {},
   "outputs": [
    {
     "name": "stdout",
     "output_type": "stream",
     "text": [
      "yes\n"
     ]
    }
   ],
   "source": [
    "if 'n' in 'python':\n",
    "    print('yes')"
   ]
  },
  {
   "cell_type": "code",
   "execution_count": 5,
   "id": "d658a881",
   "metadata": {},
   "outputs": [
    {
     "name": "stdout",
     "output_type": "stream",
     "text": [
      "yes\n"
     ]
    }
   ],
   "source": [
    "if 'pratham' in ['pratham','R','S']:\n",
    "    print('yes')"
   ]
  },
  {
   "cell_type": "code",
   "execution_count": 6,
   "id": "09ec878c",
   "metadata": {},
   "outputs": [
    {
     "name": "stdout",
     "output_type": "stream",
     "text": [
      "I dont know who you are\n"
     ]
    }
   ],
   "source": [
    "name='Saanve'\n",
    "if name=='Pratham':\n",
    "    print(\"you aren't the one\")\n",
    "elif name==\"Suraj\":\n",
    "    print(\"you aren't the one\")\n",
    "elif name==\"Hrishi\":\n",
    "    print(\"you aren't the one\")\n",
    "else:print(\"I dont know who you are\")"
   ]
  },
  {
   "cell_type": "code",
   "execution_count": 7,
   "id": "83bf8aa0",
   "metadata": {},
   "outputs": [
    {
     "name": "stdout",
     "output_type": "stream",
     "text": [
      "Enter a no.:5\n",
      "Enter a no.:23\n",
      "Enter a no.:12\n",
      "the maximal value is: 23.0\n"
     ]
    }
   ],
   "source": [
    "a=float(input('Enter a no.:'))\n",
    "b=float(input('Enter a no.:'))\n",
    "c=float(input('Enter a no.:'))\n",
    "if a>b and a>c:\n",
    "    print('the maximal value is:',a)\n",
    "elif b>c and b>a:\n",
    "    print('the maximal value is:',b)\n",
    "else: print('The maximal value is c:',c)"
   ]
  }
 ],
 "metadata": {
  "kernelspec": {
   "display_name": "Python 3 (ipykernel)",
   "language": "python",
   "name": "python3"
  },
  "language_info": {
   "codemirror_mode": {
    "name": "ipython",
    "version": 3
   },
   "file_extension": ".py",
   "mimetype": "text/x-python",
   "name": "python",
   "nbconvert_exporter": "python",
   "pygments_lexer": "ipython3",
   "version": "3.9.7"
  }
 },
 "nbformat": 4,
 "nbformat_minor": 5
}
