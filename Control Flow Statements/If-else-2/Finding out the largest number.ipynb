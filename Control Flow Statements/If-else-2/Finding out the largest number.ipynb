{
 "cells": [
  {
   "cell_type": "code",
   "execution_count": 1,
   "id": "0f41914c",
   "metadata": {},
   "outputs": [
    {
     "name": "stdout",
     "output_type": "stream",
     "text": [
      "Enter the 1st number: 78\n",
      "Enter the 2nd number: 86\n",
      "Enter the 3rd number: 67\n",
      "86 is the largest among these 3 number\n"
     ]
    }
   ],
   "source": [
    "#Find the largest number among three input numbers. \n",
    "num1=int(input('Enter the 1st number: '))\n",
    "num2=int(input('Enter the 2nd number: '))\n",
    "num3=int(input('Enter the 3rd number: '))\n",
    "if num1>num2 and num1>num3:\n",
    "    print(num1,'is the largest among these 3 number')\n",
    "elif num2>num3 and num2>num3:\n",
    "    print(num2,'is the largest among these 3 number')\n",
    "else: print(num3,'is the largest among these 3 number')"
   ]
  }
 ],
 "metadata": {
  "kernelspec": {
   "display_name": "Python 3 (ipykernel)",
   "language": "python",
   "name": "python3"
  },
  "language_info": {
   "codemirror_mode": {
    "name": "ipython",
    "version": 3
   },
   "file_extension": ".py",
   "mimetype": "text/x-python",
   "name": "python",
   "nbconvert_exporter": "python",
   "pygments_lexer": "ipython3",
   "version": "3.9.7"
  }
 },
 "nbformat": 4,
 "nbformat_minor": 5
}
