{
 "cells": [
  {
   "cell_type": "code",
   "execution_count": 1,
   "id": "195d2861",
   "metadata": {},
   "outputs": [
    {
     "name": "stdout",
     "output_type": "stream",
     "text": [
      "Enter the 1st number: 34\n",
      "Enter the 2nd number: 36\n",
      "Enter the 3rd number: 21\n",
      "34.0 is the 2nd largest number.\n"
     ]
    }
   ],
   "source": [
    "#Accept three sides of the traingle and check whether the triangle is possible or not.\n",
    "s1=float(input('Enter the First side: '))\n",
    "s2=float(input('Enter the Second side: '))\n",
    "s3=float(input('Enter the Third side: '))\n",
    "if s1>s2 and s3:\n",
    "    if s1<s2+s3:\n",
    "        print(\"Triangle is Possible.\")\n",
    "    else : print('Triangle is Not Possible')\n",
    "elif s2>s1 and s3:\n",
    "    if s2<s1+s3:\n",
    "        print(\"Triangle is Possible.\")\n",
    "    else : print('Triangle is Not Possible')    \n",
    "elif s3>s1 and s2:\n",
    "    if s3<s1+s2:\n",
    "        print(\"Triangle is Possible.\")\n",
    "    else : print('Triangle is Not Possible')\n",
    "else : print('Triangle is Not Possible')"
   ]
  }
 ],
 "metadata": {
  "kernelspec": {
   "display_name": "Python 3 (ipykernel)",
   "language": "python",
   "name": "python3"
  },
  "language_info": {
   "codemirror_mode": {
    "name": "ipython",
    "version": 3
   },
   "file_extension": ".py",
   "mimetype": "text/x-python",
   "name": "python",
   "nbconvert_exporter": "python",
   "pygments_lexer": "ipython3",
   "version": "3.9.7"
  }
 },
 "nbformat": 4,
 "nbformat_minor": 5
}
