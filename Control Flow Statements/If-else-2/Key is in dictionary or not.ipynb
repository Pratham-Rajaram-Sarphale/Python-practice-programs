{
 "cells": [
  {
   "cell_type": "code",
   "execution_count": 1,
   "id": "a2f55eec",
   "metadata": {},
   "outputs": [
    {
     "name": "stdout",
     "output_type": "stream",
     "text": [
      "Enter the key: 5\n",
      "Not present in the dictionary.\n"
     ]
    }
   ],
   "source": [
    "#Check whether the given key is present in the dictionary or not\n",
    "dict1={1:'one',2:'two',3:'three',4:'four'}\n",
    "ent=int(input(\"Enter the key: \"))\n",
    "if ent in dict1:\n",
    "    print('Yes,the key is present and value is',dict1[ent])\n",
    "else:print('Not present in the dictionary.')"
   ]
  }
 ],
 "metadata": {
  "kernelspec": {
   "display_name": "Python 3 (ipykernel)",
   "language": "python",
   "name": "python3"
  },
  "language_info": {
   "codemirror_mode": {
    "name": "ipython",
    "version": 3
   },
   "file_extension": ".py",
   "mimetype": "text/x-python",
   "name": "python",
   "nbconvert_exporter": "python",
   "pygments_lexer": "ipython3",
   "version": "3.9.7"
  }
 },
 "nbformat": 4,
 "nbformat_minor": 5
}
