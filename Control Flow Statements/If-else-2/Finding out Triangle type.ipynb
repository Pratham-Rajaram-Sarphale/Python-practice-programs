{
 "cells": [
  {
   "cell_type": "code",
   "execution_count": 1,
   "id": "586bf25c",
   "metadata": {},
   "outputs": [
    {
     "name": "stdout",
     "output_type": "stream",
     "text": [
      "Enter the length of 1st side: 8.9\n",
      "Enter the length of 2nd side: 8.0\n",
      "Enter the length of 3rd side: 8.0\n",
      "This is an Isosceles Triangle.\n"
     ]
    }
   ],
   "source": [
    "#Accept three sides of triangle and check whether it is an equilateral,isosceles or scalene triangle.\n",
    "s1=float(input('Enter the length of 1st side: '))\n",
    "s2=float(input('Enter the length of 2nd side: '))\n",
    "s3=float(input('Enter the length of 3rd side: '))\n",
    "if s1==s2==s3:\n",
    "    print('This is an Equilateral Triangle.')\n",
    "elif s1!=s2!=s3!=s1:\n",
    "    print('This is a Scalene Triangle.')\n",
    "else: print('This is an Isosceles Triangle.')"
   ]
  }
 ],
 "metadata": {
  "kernelspec": {
   "display_name": "Python 3 (ipykernel)",
   "language": "python",
   "name": "python3"
  },
  "language_info": {
   "codemirror_mode": {
    "name": "ipython",
    "version": 3
   },
   "file_extension": ".py",
   "mimetype": "text/x-python",
   "name": "python",
   "nbconvert_exporter": "python",
   "pygments_lexer": "ipython3",
   "version": "3.9.7"
  }
 },
 "nbformat": 4,
 "nbformat_minor": 5
}
