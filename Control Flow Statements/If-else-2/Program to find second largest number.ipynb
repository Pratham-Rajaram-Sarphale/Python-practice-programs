{
 "cells": [
  {
   "cell_type": "code",
   "execution_count": 1,
   "id": "ebe9800c",
   "metadata": {},
   "outputs": [
    {
     "name": "stdout",
     "output_type": "stream",
     "text": [
      "Enter the 1st number: 34\n",
      "Enter the 2nd number: 36\n",
      "Enter the 3rd number: 21\n",
      "34.0 is the 2nd largest number.\n"
     ]
    }
   ],
   "source": [
    "#accept three numbers from the user and display the 2nd largest number.\n",
    "a=float(input('Enter the 1st number: '))\n",
    "b=float(input('Enter the 2nd number: '))\n",
    "c=float(input('Enter the 3rd number: '))\n",
    "if a>b and a<c or a<b and a>c:\n",
    "    print(a,'is the 2nd largest number.')\n",
    "elif b>c and b<a or b<c and b>a:\n",
    "    print(b,'is the 2nd largest number.')\n",
    "elif c>a and c<b or c<a and c>b:\n",
    "    print(c,'is the 2nd largest number.')\n",
    "else:print('invalid nmber.')"
   ]
  }
 ],
 "metadata": {
  "kernelspec": {
   "display_name": "Python 3 (ipykernel)",
   "language": "python",
   "name": "python3"
  },
  "language_info": {
   "codemirror_mode": {
    "name": "ipython",
    "version": 3
   },
   "file_extension": ".py",
   "mimetype": "text/x-python",
   "name": "python",
   "nbconvert_exporter": "python",
   "pygments_lexer": "ipython3",
   "version": "3.9.7"
  }
 },
 "nbformat": 4,
 "nbformat_minor": 5
}
