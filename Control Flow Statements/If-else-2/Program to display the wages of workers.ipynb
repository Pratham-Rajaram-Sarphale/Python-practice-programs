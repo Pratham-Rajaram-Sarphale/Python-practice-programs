{
 "cells": [
  {
   "cell_type": "code",
   "execution_count": 2,
   "id": "5e7e4661",
   "metadata": {},
   "outputs": [
    {
     "name": "stdout",
     "output_type": "stream",
     "text": [
      "Enter Your Age: 35\n",
      "Enter Your Sex(M/F): M\n",
      "Enter the number of Days: 21\n",
      "Your Wages for 21 day is 16800\n"
     ]
    }
   ],
   "source": [
    "#accept the age,sex(M,F) and number of days to display their wages accordingly.\n",
    "age=int(input('Enter Your Age: '))\n",
    "if age>=18 and age<30 :\n",
    "    sex=(input(\"Enter Your Sex(M/F): \"))\n",
    "    days=int(input('Enter the number of Days: '))\n",
    "    if sex== 'M':\n",
    "        print('Your Wages for',days,'day is',700*days)\n",
    "    else: print('Your Wages for',days,'day is',750*days)\n",
    "elif age>=30 and age<=40:\n",
    "    sex=(input(\"Enter Your Sex(M/F): \"))\n",
    "    days=int(input('Enter the number of Days: '))\n",
    "    if sex=='M':\n",
    "        print('Your Wages for',days,'day is',800*days)\n",
    "    else: print('Your Wages for',days,'day is',850*days)\n",
    "else:\n",
    "    print('You arent allowed to Work.Thank You')"
   ]
  }
 ],
 "metadata": {
  "kernelspec": {
   "display_name": "Python 3 (ipykernel)",
   "language": "python",
   "name": "python3"
  },
  "language_info": {
   "codemirror_mode": {
    "name": "ipython",
    "version": 3
   },
   "file_extension": ".py",
   "mimetype": "text/x-python",
   "name": "python",
   "nbconvert_exporter": "python",
   "pygments_lexer": "ipython3",
   "version": "3.9.7"
  }
 },
 "nbformat": 4,
 "nbformat_minor": 5
}
