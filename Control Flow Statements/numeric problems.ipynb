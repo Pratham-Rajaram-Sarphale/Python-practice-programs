{
 "cells": [
  {
   "cell_type": "code",
   "execution_count": 4,
   "id": "d517cfa1",
   "metadata": {},
   "outputs": [
    {
     "name": "stdout",
     "output_type": "stream",
     "text": [
      "Enter a number:14\n",
      "14 is an even number.\n"
     ]
    }
   ],
   "source": [
    "a=int(input('Enter a number:'))\n",
    "if a %2 ==0 :\n",
    "    print(a,\"is an even number.\")"
   ]
  },
  {
   "cell_type": "code",
   "execution_count": 8,
   "id": "f27d33f4",
   "metadata": {},
   "outputs": [
    {
     "name": "stdout",
     "output_type": "stream",
     "text": [
      "Enter a number:12\n",
      "the number is positive\n"
     ]
    }
   ],
   "source": [
    "a=int(input('Enter a number:'))\n",
    "if a>0:\n",
    "    print('the number is positive')"
   ]
  },
  {
   "cell_type": "code",
   "execution_count": 10,
   "id": "8283b08f",
   "metadata": {},
   "outputs": [
    {
     "name": "stdout",
     "output_type": "stream",
     "text": [
      "Enter a number:-21\n",
      "the number is negative\n"
     ]
    }
   ],
   "source": [
    "a=int(input('Enter a number:'))\n",
    "if a>0:\n",
    "    print('the number is positive')\n",
    "else:\n",
    "    print('the number is negative')"
   ]
  },
  {
   "cell_type": "code",
   "execution_count": 11,
   "id": "7ac42760",
   "metadata": {},
   "outputs": [
    {
     "name": "stdout",
     "output_type": "stream",
     "text": [
      "Enter a number:0\n",
      "the number is equal to 0\n"
     ]
    }
   ],
   "source": [
    "a=int(input('Enter a number:'))\n",
    "if a>0:\n",
    "    print('the number is positive')\n",
    "elif a==0:\n",
    "    print('the number is equal to 0')\n",
    "else:\n",
    "    print('the number is negative')\n",
    "    "
   ]
  }
 ],
 "metadata": {
  "kernelspec": {
   "display_name": "Python 3 (ipykernel)",
   "language": "python",
   "name": "python3"
  },
  "language_info": {
   "codemirror_mode": {
    "name": "ipython",
    "version": 3
   },
   "file_extension": ".py",
   "mimetype": "text/x-python",
   "name": "python",
   "nbconvert_exporter": "python",
   "pygments_lexer": "ipython3",
   "version": "3.9.7"
  }
 },
 "nbformat": 4,
 "nbformat_minor": 5
}
