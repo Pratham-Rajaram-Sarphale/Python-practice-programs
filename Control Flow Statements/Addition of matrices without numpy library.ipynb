{
 "cells": [
  {
   "cell_type": "code",
   "execution_count": 1,
   "id": "89f726f0",
   "metadata": {},
   "outputs": [
    {
     "name": "stdout",
     "output_type": "stream",
     "text": [
      "[5, 5]\n",
      "[11, 8]\n",
      "[[5, 5], [11, 8]]\n"
     ]
    }
   ],
   "source": [
    "#Program to add matrix of 2*2 using nested loop and list comprehension\n",
    "x=[[2,4],\n",
    "  [5,6]]\n",
    "y=[[3,1],\n",
    "  [6,2]]\n",
    "result=[[0,0],\n",
    "       [0,0]]\n",
    "for i in range(len(x)):\n",
    "    for j in range(len(x)):\n",
    "        result[i][j]=x[i][j]+y[i][j]\n",
    "for r in result:\n",
    "    print(r)\n",
    "result=[[x[i][j]+y[i][j]for j in range(len(x))]for i in range(len(x))]\n",
    "print(result)"
   ]
  }
 ],
 "metadata": {
  "kernelspec": {
   "display_name": "Python 3 (ipykernel)",
   "language": "python",
   "name": "python3"
  },
  "language_info": {
   "codemirror_mode": {
    "name": "ipython",
    "version": 3
   },
   "file_extension": ".py",
   "mimetype": "text/x-python",
   "name": "python",
   "nbconvert_exporter": "python",
   "pygments_lexer": "ipython3",
   "version": "3.9.7"
  }
 },
 "nbformat": 4,
 "nbformat_minor": 5
}
