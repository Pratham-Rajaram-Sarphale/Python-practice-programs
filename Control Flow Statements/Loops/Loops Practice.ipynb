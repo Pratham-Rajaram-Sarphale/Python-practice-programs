{
 "cells": [
  {
   "cell_type": "code",
   "execution_count": 4,
   "id": "1f5f2ca6",
   "metadata": {},
   "outputs": [
    {
     "name": "stdout",
     "output_type": "stream",
     "text": [
      "Enter the nth number: 10\n",
      "55\n"
     ]
    }
   ],
   "source": [
    "#Calculate sum of first n numbers\n",
    "num=int(input('Enter the nth number: '))\n",
    "sum=0\n",
    "i=1\n",
    "while i<num+1:\n",
    "    sum=sum+i\n",
    "    i+=1\n",
    "print(sum)"
   ]
  },
  {
   "cell_type": "code",
   "execution_count": 8,
   "id": "d9be73c8",
   "metadata": {},
   "outputs": [
    {
     "name": "stdout",
     "output_type": "stream",
     "text": [
      "Enter a number: 1\n",
      "Enter a number: 2\n",
      "Enter a number: 3\n",
      "Enter a number: 4\n",
      "Enter a number: 5\n",
      "Enter a number: 6\n",
      "Enter a number: 7\n",
      "Enter a number: 8\n",
      "Enter a number: 9\n",
      "Enter a number: 10\n",
      "The average of your entered 10 numbers is 5.5\n"
     ]
    }
   ],
   "source": [
    "#Accept 10 numbers from user and display their average\n",
    "sum=0\n",
    "for i in range(10):\n",
    "    a=float(input('Enter a number: '))\n",
    "    sum+=a\n",
    "print('The average of your entered 10 numbers is',sum/10)"
   ]
  },
  {
   "cell_type": "code",
   "execution_count": 9,
   "id": "b7d9f035",
   "metadata": {},
   "outputs": [
    {
     "name": "stdout",
     "output_type": "stream",
     "text": [
      "121\n",
      "143\n",
      "165\n",
      "187\n",
      "209\n",
      "231\n",
      "253\n",
      "275\n",
      "297\n",
      "319\n",
      "341\n",
      "363\n",
      "385\n",
      "407\n",
      "429\n",
      "451\n",
      "473\n",
      "495\n"
     ]
    }
   ],
   "source": [
    "#Write a program to display all the numbers which are divisible by 11 but not by 2 between 100 and 500.\n",
    "for i in range(100,501):\n",
    "    if i%11==0 and i%2!=0:\n",
    "        print(i)"
   ]
  },
  {
   "cell_type": "code",
   "execution_count": 10,
   "id": "74ce6ba7",
   "metadata": {},
   "outputs": [
    {
     "name": "stdout",
     "output_type": "stream",
     "text": [
      "1\n",
      "5\n",
      "7\n",
      "11\n",
      "13\n",
      "17\n",
      "19\n"
     ]
    }
   ],
   "source": [
    "#Write a program to print numbers from 1 to 20 except multiple of 2 and 3.\n",
    "for i in range(1,21):\n",
    "    if i%2!=0 and i%3!=0:\n",
    "        print(i)"
   ]
  },
  {
   "cell_type": "code",
   "execution_count": 11,
   "id": "c6adb958",
   "metadata": {},
   "outputs": [
    {
     "name": "stdout",
     "output_type": "stream",
     "text": [
      "40\n",
      "60\n",
      "80\n"
     ]
    }
   ],
   "source": [
    "#converting the while loop into for loop\n",
    "'''x=4\n",
    "while(x<=8):\n",
    "print(x*10)\n",
    "x+=2'''\n",
    "for xyz in range(4,9,2):\n",
    "    print(xyz*10)"
   ]
  }
 ],
 "metadata": {
  "kernelspec": {
   "display_name": "Python 3 (ipykernel)",
   "language": "python",
   "name": "python3"
  },
  "language_info": {
   "codemirror_mode": {
    "name": "ipython",
    "version": 3
   },
   "file_extension": ".py",
   "mimetype": "text/x-python",
   "name": "python",
   "nbconvert_exporter": "python",
   "pygments_lexer": "ipython3",
   "version": "3.9.7"
  }
 },
 "nbformat": 4,
 "nbformat_minor": 5
}
