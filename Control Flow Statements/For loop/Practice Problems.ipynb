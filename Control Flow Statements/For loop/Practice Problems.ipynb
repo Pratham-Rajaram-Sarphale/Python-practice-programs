{
 "cells": [
  {
   "cell_type": "code",
   "execution_count": 3,
   "id": "b5128235",
   "metadata": {},
   "outputs": [
    {
     "name": "stdout",
     "output_type": "stream",
     "text": [
      "Enter the length of Rectangle: 13\n",
      "Enter the breadth of Rectangle: 1\n",
      "This is not a Square.\n"
     ]
    }
   ],
   "source": [
    "length=float(input('Enter the length of Rectangle: '))\n",
    "breadth=float(input('Enter the breadth of Rectangle: '))\n",
    "if length==breadth:\n",
    "    print('This is a Square.')\n",
    "else: print('This is not a Square.')"
   ]
  },
  {
   "cell_type": "code",
   "execution_count": 2,
   "id": "45a47f16",
   "metadata": {},
   "outputs": [
    {
     "name": "stdout",
     "output_type": "stream",
     "text": [
      "Enter your years of service : 6\n",
      "Enter your salary : 25000\n",
      "You'll get the net bonus of amount 1250.0\n"
     ]
    }
   ],
   "source": [
    "year_of_service=int(input('Enter your years of service : '))\n",
    "salary=int(input('Enter your salary : '))                    \n",
    "if year_of_service>5:\n",
    "    a=salary*0.05\n",
    "    print(\"You'll get the net bonus of amount\",a)\n",
    "else: print('You are not eligible to get the bonus.')"
   ]
  }
 ],
 "metadata": {
  "kernelspec": {
   "display_name": "Python 3 (ipykernel)",
   "language": "python",
   "name": "python3"
  },
  "language_info": {
   "codemirror_mode": {
    "name": "ipython",
    "version": 3
   },
   "file_extension": ".py",
   "mimetype": "text/x-python",
   "name": "python",
   "nbconvert_exporter": "python",
   "pygments_lexer": "ipython3",
   "version": "3.9.7"
  }
 },
 "nbformat": 4,
 "nbformat_minor": 5
}
