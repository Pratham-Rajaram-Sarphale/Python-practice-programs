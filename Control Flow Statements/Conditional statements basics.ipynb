{
 "cells": [
  {
   "cell_type": "code",
   "execution_count": null,
   "id": "044c7f07",
   "metadata": {},
   "outputs": [],
   "source": [
    "a=int(input('Enter a number:'))\n",
    "if a %2 ==0 :\n",
    "    print(a,\"is an even number.\")"
   ]
  },
  {
   "cell_type": "code",
   "execution_count": null,
   "id": "286b3d6d",
   "metadata": {},
   "outputs": [],
   "source": [
    "a=int(input('Enter a number:'))\n",
    "if a>0:\n",
    "    print('the number is positive')"
   ]
  },
  {
   "cell_type": "code",
   "execution_count": null,
   "id": "ee2bb123",
   "metadata": {},
   "outputs": [],
   "source": [
    "a=int(input('Enter a number:'))\n",
    "if a>0:\n",
    "    print('the number is positive')\n",
    "else:\n",
    "    print('the number is negative')"
   ]
  },
  {
   "cell_type": "code",
   "execution_count": null,
   "id": "484cae98",
   "metadata": {},
   "outputs": [],
   "source": [
    "a=int(input('Enter a number:'))\n",
    "if a>0:\n",
    "    print('the number is positive')\n",
    "elif a==0:\n",
    "    print('the number is equal to 0')\n",
    "else:\n",
    "    print('the number is negative')\n",
    "    "
   ]
  },
  {
   "cell_type": "code",
   "execution_count": null,
   "id": "f66e3d13",
   "metadata": {},
   "outputs": [],
   "source": [
    "a=int(input('Enter a number:'))\n",
    "if a %2 ==0 :\n",
    "    print(a,\"is an even number.\")\n",
    "else:\n",
    "    print(a,'is an odd number.')"
   ]
  },
  {
   "cell_type": "code",
   "execution_count": null,
   "id": "85230c0d",
   "metadata": {},
   "outputs": [],
   "source": [
    "a=[1,2,3,4]\n",
    "if len(a)==0:\n",
    "    print('list is empty')\n",
    "else: \n",
    "    print('list is full')"
   ]
  },
  {
   "cell_type": "code",
   "execution_count": null,
   "id": "84c0d695",
   "metadata": {},
   "outputs": [],
   "source": [
    "if 'n' in 'python':\n",
    "    print('yes')"
   ]
  },
  {
   "cell_type": "code",
   "execution_count": null,
   "id": "1e957151",
   "metadata": {},
   "outputs": [],
   "source": [
    "if 'pratham' in ['pratham','deadly','othe']:\n",
    "    print('yes')"
   ]
  },
  {
   "cell_type": "code",
   "execution_count": null,
   "id": "8b102e4d",
   "metadata": {},
   "outputs": [],
   "source": [
    "name='Saanve'\n",
    "if name=='Pratham':\n",
    "    print(\"you aren't the one\")\n",
    "elif name==\"Suraj\":\n",
    "    print(\"you aren't the one\")\n",
    "elif name==\"Hrishi\":\n",
    "    print(\"you aren't the one\")\n",
    "else:print(\"I dont know who you are\")"
   ]
  },
  {
   "cell_type": "code",
   "execution_count": null,
   "id": "46ed0180",
   "metadata": {},
   "outputs": [],
   "source": [
    "a=float(input('Enter a no.:'))\n",
    "b=float(input('Enter a no.:'))\n",
    "c=float(input('Enter a no.:'))\n",
    "if a>b and a>c:\n",
    "    print('the maximal value is:',a)\n",
    "elif b>c and b>a:\n",
    "    print('the maximal value is:',b)\n",
    "else: print('The maximal value is c:',c)"
   ]
  },
  {
   "cell_type": "code",
   "execution_count": null,
   "id": "11873ab4",
   "metadata": {},
   "outputs": [],
   "source": []
  }
 ],
 "metadata": {
  "kernelspec": {
   "display_name": "Python 3 (ipykernel)",
   "language": "python",
   "name": "python3"
  },
  "language_info": {
   "codemirror_mode": {
    "name": "ipython",
    "version": 3
   },
   "file_extension": ".py",
   "mimetype": "text/x-python",
   "name": "python",
   "nbconvert_exporter": "python",
   "pygments_lexer": "ipython3",
   "version": "3.9.7"
  }
 },
 "nbformat": 4,
 "nbformat_minor": 5
}
