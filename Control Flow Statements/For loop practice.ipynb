{
 "cells": [
  {
   "cell_type": "code",
   "execution_count": 14,
   "id": "cc8bf182",
   "metadata": {},
   "outputs": [
    {
     "name": "stdout",
     "output_type": "stream",
     "text": [
      "The sum of odd numbers is: 325\n",
      "The sum of even numbers is: 312\n"
     ]
    }
   ],
   "source": [
    "#program to display sum of odd nmbers and even numbers that fall between 12 and 37(including both numbers)even=0\n",
    "odd=0\n",
    "for i in range(12,38):\n",
    "    if i%2==0:\n",
    "        even+=i\n",
    "    else: odd+=i\n",
    "print('The sum of odd numbers is:',odd)\n",
    "print('The sum of even numbers is:',even)"
   ]
  },
  {
   "cell_type": "code",
   "execution_count": 2,
   "id": "f1e5816b",
   "metadata": {},
   "outputs": [
    {
     "name": "stdout",
     "output_type": "stream",
     "text": [
      "Enter a number: 6\n",
      "6 is a perfect square.\n"
     ]
    }
   ],
   "source": [
    "#Write a program to accept a number and check whether it is a perfect square or not\n",
    "perf_square=int(input(\"Enter a number: \"))\n",
    "sum=0\n",
    "for i in range(1,perf_square):\n",
    "    if perf_square%i==0:\n",
    "        sum=sum+i\n",
    "if sum==perf_square:\n",
    "    print(perf_square,'is a perfect square.')\n",
    "else: print(perf_square,'is not a perfect square.')"
   ]
  },
  {
   "cell_type": "code",
   "execution_count": null,
   "id": "68e2c335",
   "metadata": {},
   "outputs": [],
   "source": []
  }
 ],
 "metadata": {
  "kernelspec": {
   "display_name": "Python 3 (ipykernel)",
   "language": "python",
   "name": "python3"
  },
  "language_info": {
   "codemirror_mode": {
    "name": "ipython",
    "version": 3
   },
   "file_extension": ".py",
   "mimetype": "text/x-python",
   "name": "python",
   "nbconvert_exporter": "python",
   "pygments_lexer": "ipython3",
   "version": "3.9.7"
  }
 },
 "nbformat": 4,
 "nbformat_minor": 5
}
