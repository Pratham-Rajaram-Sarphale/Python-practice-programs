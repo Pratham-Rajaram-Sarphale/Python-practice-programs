{
 "cells": [
  {
   "cell_type": "code",
   "execution_count": 4,
   "id": "e0eec9ad",
   "metadata": {},
   "outputs": [
    {
     "name": "stdout",
     "output_type": "stream",
     "text": [
      "Enter any year: 2003\n",
      "2003 is not a leap year.\n"
     ]
    }
   ],
   "source": [
    "#Check whether year is leap year or not\n",
    "leap=int(input('Enter any year: '))\n",
    "if (leap%400==0) and (leap%100==0):\n",
    "    print('this is a leap year')\n",
    "elif(leap%4==0) and (leap%100!=0):\n",
    "    print('This is a leap year')\n",
    "else:print(leap,'is not a leap year.')"
   ]
  },
  {
   "cell_type": "code",
   "execution_count": 4,
   "id": "0aa6af6d",
   "metadata": {},
   "outputs": [
    {
     "name": "stdout",
     "output_type": "stream",
     "text": [
      "Enter the total number of days: 300\n",
      "Enter the total number of days you were Present: 250\n",
      "You are eligible to give the exam.\n"
     ]
    }
   ],
   "source": [
    "#Accept the following from the user and check whether he/she is eligible to sit in the exam\n",
    "a=int(input(\"Enter the total number of days: \"))\n",
    "b=int(input(\"Enter the total number of days you were Present: \"))\n",
    "c=(b*100)/a\n",
    "if c>75:\n",
    "    print('You are eligible to give the exam.')\n",
    "else:print('You arent eligible to give the exam.')"
   ]
  },
  {
   "cell_type": "code",
   "execution_count": 10,
   "id": "e5f8bdb4",
   "metadata": {},
   "outputs": [
    {
     "name": "stdout",
     "output_type": "stream",
     "text": [
      "Enter any alphabet: u\n",
      "u is a vowel.\n"
     ]
    }
   ],
   "source": [
    "#Check whether the letter is vowel or not\n",
    "vow=['a','e','i','o','u','A','E','I','O','U']\n",
    "envow=input('Enter any alphabet: ')\n",
    "if envow in vow:\n",
    "    print(envow,'is a vowel.')\n",
    "else:print(envow,'is not a vowel.')"
   ]
  },
  {
   "cell_type": "code",
   "execution_count": 11,
   "id": "691984c7",
   "metadata": {},
   "outputs": [
    {
     "name": "stdout",
     "output_type": "stream",
     "text": [
      "Enter the number from 1 to 7: 5\n",
      "Thursday\n"
     ]
    }
   ],
   "source": [
    "#Write a program to accept the number from 1 to 7 and display the name of the day like 1 for sunday,2 for monday and so on.\n",
    "a=int(input('Enter the number from 1 to 7: '))\n",
    "if a==1:\n",
    "    print(\"Sunday\")\n",
    "elif a==2:\n",
    "    print(\"Monday\")\n",
    "elif a==3:\n",
    "    print(\"Tuesday\")\n",
    "elif a==4:\n",
    "    print(\"Wednesday\")\n",
    "elif a==5:\n",
    "    print(\"Thursday\")\n",
    "elif a==6:\n",
    "    print(\"Friday\")\n",
    "elif a==7:\n",
    "    print(\"Saturday\")\n",
    "else :print('Not a day of the Week.')"
   ]
  },
  {
   "cell_type": "code",
   "execution_count": 6,
   "id": "2712486f",
   "metadata": {},
   "outputs": [
    {
     "name": "stdout",
     "output_type": "stream",
     "text": [
      "CITY: Delhi, Agra, Jaipur\n",
      "Enter the city name from the above mentioned city:mumbai\n",
      "Not a valid city\n"
     ]
    }
   ],
   "source": [
    "#Accept the city from the user and display the monument of that city\n",
    "print('CITY: Delhi, Agra, Jaipur')\n",
    "city=input('Enter the city name from the above mentioned city:')\n",
    "if city=='Delhi':\n",
    "    print(\"RED FORT\")\n",
    "elif city=='Agra':\n",
    "    print(\"TAJ MAHAL\")\n",
    "elif city=='Jaipur':\n",
    "    print(\"LAL MAHAL\")\n",
    "else :\n",
    "    print(\"Not a valid city\")"
   ]
  },
  {
   "cell_type": "code",
   "execution_count": 13,
   "id": "cb4285bf",
   "metadata": {},
   "outputs": [
    {
     "name": "stdout",
     "output_type": "stream",
     "text": [
      "Enter your percentage: 80\n",
      "A+\n"
     ]
    }
   ],
   "source": [
    "#accept the percentage from the user and display the grades according to the following criteria.\n",
    "p=int(input('Enter your percentage: '))\n",
    "if p<25:\n",
    "    print('D')\n",
    "elif p<=45:\n",
    "    print('C')\n",
    "elif p<=50:\n",
    "    print('B')\n",
    "elif p<=60:\n",
    "    print('B+')\n",
    "elif p<80:\n",
    "    print('A')\n",
    "elif p>=80:\n",
    "    print('A+')"
   ]
  },
  {
   "cell_type": "code",
   "execution_count": 25,
   "id": "87a1bd17",
   "metadata": {},
   "outputs": [
    {
     "name": "stdout",
     "output_type": "stream",
     "text": [
      "Enter your Age:18\n",
      "You are eligible for voting.\n"
     ]
    }
   ],
   "source": [
    "#Check whether the person is eligible for voting or not.\n",
    "a=int(input('Enter your Age:'))\n",
    "if a<18:\n",
    "    print(\"You aren't eligible for voting.\")\n",
    "elif a>=18:\n",
    "    print(\"You are eligible for voting.\")\n",
    "else:\n",
    "    print('Invalid age')"
   ]
  },
  {
   "cell_type": "code",
   "execution_count": 11,
   "id": "cee10395",
   "metadata": {},
   "outputs": [
    {
     "name": "stdout",
     "output_type": "stream",
     "text": [
      "Enter a number: 63\n",
      "This number is divisible by 7.\n"
     ]
    }
   ],
   "source": [
    "#Check whether the number is divisble by 7 or not.\n",
    "num=int(input('Enter a number: '))\n",
    "if num%7==0:\n",
    "    print('This number is divisible by 7.')\n",
    "else:print('This number is not divisible by 7.')"
   ]
  }
 ],
 "metadata": {
  "kernelspec": {
   "display_name": "Python 3 (ipykernel)",
   "language": "python",
   "name": "python3"
  },
  "language_info": {
   "codemirror_mode": {
    "name": "ipython",
    "version": 3
   },
   "file_extension": ".py",
   "mimetype": "text/x-python",
   "name": "python",
   "nbconvert_exporter": "python",
   "pygments_lexer": "ipython3",
   "version": "3.9.7"
  }
 },
 "nbformat": 4,
 "nbformat_minor": 5
}
