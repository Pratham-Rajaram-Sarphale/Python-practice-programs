{
 "cells": [
  {
   "cell_type": "code",
   "execution_count": 1,
   "id": "2a636808",
   "metadata": {},
   "outputs": [
    {
     "name": "stdout",
     "output_type": "stream",
     "text": [
      "Select an operation:\n",
      "1-Addition\n",
      "2-Subtraction\n",
      "3-Multiplication\n",
      "4-Division\n",
      "5-Remainder\n",
      "6-Absolute Division\n",
      "Enter a number: 60\n",
      "Enter a number: 2\n",
      "Enter a number as per the required operation:4\n",
      "The division is 30.0\n",
      "\n",
      "Want to perform another operation?(Y/N)Y\n",
      "Enter a number: 4\n",
      "Enter a number: 5\n",
      "Enter a number as per the required operation:3\n",
      "The multiplication is 20.0\n",
      "\n",
      "Want to perform another operation?(Y/N)N\n",
      "OFF\n"
     ]
    }
   ],
   "source": [
    "#Calculator by defining functions\n",
    "def add(a,b):\n",
    "    return (a+b)\n",
    "def sub(a,b):\n",
    "    return(a-b)\n",
    "def mult(a,b):\n",
    "    return (a*b)\n",
    "def div(a,b):\n",
    "    return (a/b)\n",
    "def rem(a,b):\n",
    "    return (a%b)\n",
    "def floor(a,b):\n",
    "    return (a//b)\n",
    "print(\"Select an operation:\")\n",
    "print('1-Addition')\n",
    "print('2-Subtraction')\n",
    "print('3-Multiplication')\n",
    "print('4-Division')\n",
    "print('5-Remainder')\n",
    "print('6-Absolute Division')\n",
    "while True:\n",
    "    a=float(input('Enter a number: '))\n",
    "    b=float(input('Enter a number: '))\n",
    "    choose=int(input('Enter a number as per the required operation:'))\n",
    "    if choose in (1,2,3,4,5,6):\n",
    "        if choose==1:\n",
    "            print('The addition is',add(a,b))\n",
    "        elif choose==2:\n",
    "            print('The subtraction is',sub(a,b))\n",
    "        elif choose==3:\n",
    "            print('The multiplication is',mult(a,b))\n",
    "        elif choose==4:\n",
    "            print('The division is',div(a,b))\n",
    "        elif choose==5:\n",
    "            print('The Remainder is',rem(a,b))\n",
    "        elif choose==6:\n",
    "            print('The Absolute division is',floor(a,b))\n",
    "        else:print('Invalid number.')\n",
    "        next=input(\"\\nWant to perform another operation?(Y/N)\")\n",
    "        if next=='N':\n",
    "            print('OFF')\n",
    "            break\n",
    "    else:print('Invalid input')"
   ]
  }
 ],
 "metadata": {
  "kernelspec": {
   "display_name": "Python 3 (ipykernel)",
   "language": "python",
   "name": "python3"
  },
  "language_info": {
   "codemirror_mode": {
    "name": "ipython",
    "version": 3
   },
   "file_extension": ".py",
   "mimetype": "text/x-python",
   "name": "python",
   "nbconvert_exporter": "python",
   "pygments_lexer": "ipython3",
   "version": "3.9.7"
  }
 },
 "nbformat": 4,
 "nbformat_minor": 5
}
