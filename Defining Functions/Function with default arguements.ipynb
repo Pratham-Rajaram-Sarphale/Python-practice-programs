{
 "cells": [
  {
   "cell_type": "code",
   "execution_count": 1,
   "id": "d7ea02ac",
   "metadata": {},
   "outputs": [
    {
     "name": "stdout",
     "output_type": "stream",
     "text": [
      "My favourite animal is Dog\n"
     ]
    }
   ],
   "source": [
    "#Create a function with default arguements\n",
    "def animals(animal='Dog'):\n",
    "    print('My favourite animal is',animal)\n",
    "animals()"
   ]
  },
  {
   "cell_type": "code",
   "execution_count": 2,
   "id": "8a718767",
   "metadata": {},
   "outputs": [
    {
     "name": "stdout",
     "output_type": "stream",
     "text": [
      "My favourite animal is cat\n"
     ]
    }
   ],
   "source": [
    "animals('cat')"
   ]
  },
  {
   "cell_type": "code",
   "execution_count": null,
   "id": "1e28beaa",
   "metadata": {},
   "outputs": [],
   "source": []
  }
 ],
 "metadata": {
  "kernelspec": {
   "display_name": "Python 3 (ipykernel)",
   "language": "python",
   "name": "python3"
  },
  "language_info": {
   "codemirror_mode": {
    "name": "ipython",
    "version": 3
   },
   "file_extension": ".py",
   "mimetype": "text/x-python",
   "name": "python",
   "nbconvert_exporter": "python",
   "pygments_lexer": "ipython3",
   "version": "3.9.7"
  }
 },
 "nbformat": 4,
 "nbformat_minor": 5
}
