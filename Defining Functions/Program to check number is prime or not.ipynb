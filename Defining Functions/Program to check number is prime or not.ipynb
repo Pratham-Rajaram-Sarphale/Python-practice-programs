{
 "cells": [
  {
   "cell_type": "code",
   "execution_count": 4,
   "id": "7cf3aac5",
   "metadata": {},
   "outputs": [
    {
     "name": "stdout",
     "output_type": "stream",
     "text": [
      "Enter a number : 17\n",
      "This is a prime Number.\n"
     ]
    }
   ],
   "source": [
    "#Write a python function that takes a number as a parameter and check the number is prime or not\n",
    "def prime(a):\n",
    "    for i in range (2,a) :\n",
    "        if a % i == 0 :\n",
    "            return \"Not a Prime Number.\"\n",
    "        return \"This is a prime Number.\"\n",
    "\n",
    "a = int(input(\"Enter a number : \"))\n",
    "print(prime(a))"
   ]
  }
 ],
 "metadata": {
  "kernelspec": {
   "display_name": "Python 3 (ipykernel)",
   "language": "python",
   "name": "python3"
  },
  "language_info": {
   "codemirror_mode": {
    "name": "ipython",
    "version": 3
   },
   "file_extension": ".py",
   "mimetype": "text/x-python",
   "name": "python",
   "nbconvert_exporter": "python",
   "pygments_lexer": "ipython3",
   "version": "3.9.7"
  }
 },
 "nbformat": 4,
 "nbformat_minor": 5
}
