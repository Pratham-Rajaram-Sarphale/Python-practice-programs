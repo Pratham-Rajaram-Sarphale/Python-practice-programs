{
 "cells": [
  {
   "cell_type": "code",
   "execution_count": 1,
   "id": "b7a4edc9",
   "metadata": {},
   "outputs": [
    {
     "name": "stdout",
     "output_type": "stream",
     "text": [
      "7 is maximum as compared to 6\n"
     ]
    }
   ],
   "source": [
    "#Create a function to find Maximum of 2\n",
    "def num(a,b):\n",
    "    if a>b:\n",
    "        print(a,\"is maximum as compared to\",b)\n",
    "    else: print(a,'is minimum as compared to',b)\n",
    "num(7,6)"
   ]
  },
  {
   "cell_type": "code",
   "execution_count": 2,
   "id": "da3d6ef8",
   "metadata": {},
   "outputs": [
    {
     "name": "stdout",
     "output_type": "stream",
     "text": [
      "-1 is minimum as compared to 21\n"
     ]
    }
   ],
   "source": [
    "num(-1,21)"
   ]
  },
  {
   "cell_type": "code",
   "execution_count": null,
   "id": "21e89693",
   "metadata": {},
   "outputs": [],
   "source": []
  }
 ],
 "metadata": {
  "kernelspec": {
   "display_name": "Python 3 (ipykernel)",
   "language": "python",
   "name": "python3"
  },
  "language_info": {
   "codemirror_mode": {
    "name": "ipython",
    "version": 3
   },
   "file_extension": ".py",
   "mimetype": "text/x-python",
   "name": "python",
   "nbconvert_exporter": "python",
   "pygments_lexer": "ipython3",
   "version": "3.9.7"
  }
 },
 "nbformat": 4,
 "nbformat_minor": 5
}
