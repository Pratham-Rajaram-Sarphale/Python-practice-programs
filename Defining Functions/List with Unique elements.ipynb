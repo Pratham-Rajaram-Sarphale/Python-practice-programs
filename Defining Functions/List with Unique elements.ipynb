{
 "cells": [
  {
   "cell_type": "code",
   "execution_count": 4,
   "id": "538af6a5",
   "metadata": {},
   "outputs": [
    {
     "name": "stdout",
     "output_type": "stream",
     "text": [
      "[1, 22, 2, 3, 4, 7, 8, 9]\n"
     ]
    }
   ],
   "source": [
    "#Write a python function that takes a list and returns a new list with unique elements of the first list\n",
    "def ulist(l):\n",
    "    a=[]\n",
    "    for x in l:\n",
    "        if x not in a:\n",
    "            a.append(x)\n",
    "    return a\n",
    "print(ulist([1,22,2,3,3,4,4,7,8,9]))"
   ]
  },
  {
   "cell_type": "code",
   "execution_count": null,
   "id": "c04963a4",
   "metadata": {},
   "outputs": [],
   "source": []
  }
 ],
 "metadata": {
  "kernelspec": {
   "display_name": "Python 3 (ipykernel)",
   "language": "python",
   "name": "python3"
  },
  "language_info": {
   "codemirror_mode": {
    "name": "ipython",
    "version": 3
   },
   "file_extension": ".py",
   "mimetype": "text/x-python",
   "name": "python",
   "nbconvert_exporter": "python",
   "pygments_lexer": "ipython3",
   "version": "3.9.7"
  }
 },
 "nbformat": 4,
 "nbformat_minor": 5
}
