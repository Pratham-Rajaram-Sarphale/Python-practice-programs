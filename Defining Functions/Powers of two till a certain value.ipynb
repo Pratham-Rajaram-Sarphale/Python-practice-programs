{
 "cells": [
  {
   "cell_type": "code",
   "execution_count": 2,
   "id": "5f44506e",
   "metadata": {},
   "outputs": [
    {
     "name": "stdout",
     "output_type": "stream",
     "text": [
      "2 to the power 0 is: 0\n",
      "2 to the power 1 is: 1\n",
      "2 to the power 2 is: 2\n",
      "2 to the power 3 is: 3\n",
      "2 to the power 4 is: 4\n",
      "2 to the power 5 is: 5\n",
      "2 to the power 6 is: 6\n",
      "2 to the power 7 is: 7\n"
     ]
    }
   ],
   "source": [
    "#Display the powers of 2 using anonymous functions\n",
    "power = list(filter(lambda x: 2 ** x, range(8)))\n",
    "for i in range(8):\n",
    "    print(\"2 to the power\",i,\"is:\",power[i])"
   ]
  }
 ],
 "metadata": {
  "kernelspec": {
   "display_name": "Python 3 (ipykernel)",
   "language": "python",
   "name": "python3"
  },
  "language_info": {
   "codemirror_mode": {
    "name": "ipython",
    "version": 3
   },
   "file_extension": ".py",
   "mimetype": "text/x-python",
   "name": "python",
   "nbconvert_exporter": "python",
   "pygments_lexer": "ipython3",
   "version": "3.9.7"
  }
 },
 "nbformat": 4,
 "nbformat_minor": 5
}
