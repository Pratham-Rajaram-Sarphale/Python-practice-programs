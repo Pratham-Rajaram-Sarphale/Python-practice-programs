{
 "cells": [
  {
   "cell_type": "code",
   "execution_count": 6,
   "id": "160cdac0",
   "metadata": {},
   "outputs": [
    {
     "name": "stdout",
     "output_type": "stream",
     "text": [
      "Enter a word: Nayan\n",
      "This is a palindrome.\n"
     ]
    }
   ],
   "source": [
    "#Write a python function that accepts a string and calculate the number of uppercase letters and lowercase letters\n",
    "def String(a):\n",
    "    d={'uppercase':0,'lowercase':0}\n",
    "    for i in a:\n",
    "        if i.isupper():\n",
    "            d['uppercase']+=1\n",
    "        elif i.islower():\n",
    "            d['lowercase']+=1\n",
    "        else: pass\n",
    "    print('Enter the string:',a)\n",
    "    print('Number of Uppercase letters is:',d['uppercase'])\n",
    "    print('Number of Lowercase letters is:',d['lowercase'])\n",
    "String('Hello World')"
   ]
  }
 ],
 "metadata": {
  "kernelspec": {
   "display_name": "Python 3 (ipykernel)",
   "language": "python",
   "name": "python3"
  },
  "language_info": {
   "codemirror_mode": {
    "name": "ipython",
    "version": 3
   },
   "file_extension": ".py",
   "mimetype": "text/x-python",
   "name": "python",
   "nbconvert_exporter": "python",
   "pygments_lexer": "ipython3",
   "version": "3.9.7"
  }
 },
 "nbformat": 4,
 "nbformat_minor": 5
}
