{
 "cells": [
  {
   "cell_type": "code",
   "execution_count": 2,
   "id": "d9d1126e",
   "metadata": {},
   "outputs": [
    {
     "name": "stdout",
     "output_type": "stream",
     "text": [
      "6 is minimum as compared to 7\n"
     ]
    }
   ],
   "source": [
    "#Create a function to find Maximum of 2\n",
    "def num(a,b):\n",
    "    if a>b:\n",
    "        print(a,\"is maximum as compared to\",b)\n",
    "    else: print(a,'is minimum as compared to',b)\n",
    "num(6,7)"
   ]
  }
 ],
 "metadata": {
  "kernelspec": {
   "display_name": "Python 3 (ipykernel)",
   "language": "python",
   "name": "python3"
  },
  "language_info": {
   "codemirror_mode": {
    "name": "ipython",
    "version": 3
   },
   "file_extension": ".py",
   "mimetype": "text/x-python",
   "name": "python",
   "nbconvert_exporter": "python",
   "pygments_lexer": "ipython3",
   "version": "3.9.7"
  }
 },
 "nbformat": 4,
 "nbformat_minor": 5
}
