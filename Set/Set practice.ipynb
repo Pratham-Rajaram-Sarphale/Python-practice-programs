{
 "cells": [
  {
   "cell_type": "code",
   "execution_count": 1,
   "id": "5275b19e",
   "metadata": {},
   "outputs": [
    {
     "name": "stdout",
     "output_type": "stream",
     "text": [
      "{1, 2, 3, 4}\n",
      "{8, 5, 6, 7}\n"
     ]
    }
   ],
   "source": [
    "#ways to create a set\n",
    "seta={1,2,3,4}\n",
    "print(seta)\n",
    "setb=set((5,6,7,8))\n",
    "print(setb)"
   ]
  },
  {
   "cell_type": "code",
   "execution_count": 2,
   "id": "fd33f88a",
   "metadata": {},
   "outputs": [
    {
     "name": "stdout",
     "output_type": "stream",
     "text": [
      "<class 'set'>\n",
      "<class 'set'>\n"
     ]
    }
   ],
   "source": [
    "#their types?\n",
    "print(type(seta))\n",
    "print(type(setb))"
   ]
  },
  {
   "cell_type": "code",
   "execution_count": 3,
   "id": "a7393669",
   "metadata": {},
   "outputs": [
    {
     "name": "stdout",
     "output_type": "stream",
     "text": [
      "{1, 2, 3, 4, 5}\n",
      "{5, 6, 7, 8, 9}\n"
     ]
    }
   ],
   "source": [
    "#adding new elements\n",
    "seta={1,2,3,4}\n",
    "seta.add(5)\n",
    "print(seta)\n",
    "setb=set((5,6,7,8))\n",
    "setb.add(9)\n",
    "print(setb)"
   ]
  },
  {
   "cell_type": "code",
   "execution_count": 4,
   "id": "b495fbe3",
   "metadata": {},
   "outputs": [
    {
     "name": "stdout",
     "output_type": "stream",
     "text": [
      "{1, 2, 3, 4, 5, 6, 7, 8, 9}\n"
     ]
    }
   ],
   "source": [
    "seta.update(setb)\n",
    "print(seta)"
   ]
  },
  {
   "cell_type": "code",
   "execution_count": 5,
   "id": "27e354c7",
   "metadata": {},
   "outputs": [
    {
     "name": "stdout",
     "output_type": "stream",
     "text": [
      "{1, 2, 3, 4, 5, 6, 7, 8, 9, 10, 11, 12}\n"
     ]
    }
   ],
   "source": [
    "seta.update([10,11,12])\n",
    "print(seta)"
   ]
  },
  {
   "cell_type": "code",
   "execution_count": 6,
   "id": "7bd0bce8",
   "metadata": {},
   "outputs": [
    {
     "name": "stdout",
     "output_type": "stream",
     "text": [
      "{1, 2, 3, 4, 5, 6, 7, 8, 9, 10, 11}\n",
      "5\n"
     ]
    }
   ],
   "source": [
    "seta.remove(12)#cant give more than one arguement\n",
    "print(seta)\n",
    "a=setb.pop()#pop will randomly pop out any value from the set\n",
    "print(a)"
   ]
  },
  {
   "cell_type": "code",
   "execution_count": 9,
   "id": "8a1e3cdd",
   "metadata": {},
   "outputs": [
    {
     "ename": "NameError",
     "evalue": "name 'seta' is not defined",
     "output_type": "error",
     "traceback": [
      "\u001b[1;31m---------------------------------------------------------------------------\u001b[0m",
      "\u001b[1;31mNameError\u001b[0m                                 Traceback (most recent call last)",
      "\u001b[1;32mC:\\Users\\PRATHA~1.SAR\\AppData\\Local\\Temp/ipykernel_3884/3784777318.py\u001b[0m in \u001b[0;36m<module>\u001b[1;34m\u001b[0m\n\u001b[1;32m----> 1\u001b[1;33m \u001b[1;32mdel\u001b[0m \u001b[0mseta\u001b[0m\u001b[1;33m\u001b[0m\u001b[1;33m\u001b[0m\u001b[0m\n\u001b[0m\u001b[0;32m      2\u001b[0m \u001b[0mprint\u001b[0m\u001b[1;33m(\u001b[0m\u001b[0mseta\u001b[0m\u001b[1;33m)\u001b[0m\u001b[1;33m\u001b[0m\u001b[1;33m\u001b[0m\u001b[0m\n",
      "\u001b[1;31mNameError\u001b[0m: name 'seta' is not defined"
     ]
    }
   ],
   "source": [
    "del seta\n",
    "print(seta)"
   ]
  },
  {
   "cell_type": "code",
   "execution_count": 10,
   "id": "2e8122fb",
   "metadata": {},
   "outputs": [
    {
     "name": "stdout",
     "output_type": "stream",
     "text": [
      "{6, 7, 8, 9}\n"
     ]
    }
   ],
   "source": [
    "print(setb)"
   ]
  },
  {
   "cell_type": "code",
   "execution_count": 11,
   "id": "539456ee",
   "metadata": {},
   "outputs": [
    {
     "name": "stdout",
     "output_type": "stream",
     "text": [
      "set()\n"
     ]
    }
   ],
   "source": [
    "setb.clear()\n",
    "print(setb)"
   ]
  },
  {
   "cell_type": "code",
   "execution_count": 12,
   "id": "e1c1ee3d",
   "metadata": {},
   "outputs": [
    {
     "name": "stdout",
     "output_type": "stream",
     "text": [
      "{1, 2, 3, 4, 5, 6}\n",
      "{1, 2, 3, 4, 5, 6}\n"
     ]
    }
   ],
   "source": [
    "'''operations in set\n",
    "Union'''\n",
    "seta={1,2,3,4}\n",
    "setb={3,4,5,6}\n",
    "print(seta|setb)\n",
    "print(seta.union(setb))"
   ]
  },
  {
   "cell_type": "code",
   "execution_count": 13,
   "id": "21df1aa1",
   "metadata": {},
   "outputs": [
    {
     "name": "stdout",
     "output_type": "stream",
     "text": [
      "{3, 4}\n",
      "{3, 4}\n"
     ]
    }
   ],
   "source": [
    "#intersection\n",
    "print(seta&setb)\n",
    "print(seta.intersection(setb))"
   ]
  },
  {
   "cell_type": "code",
   "execution_count": 15,
   "id": "f04e03c4",
   "metadata": {},
   "outputs": [
    {
     "name": "stdout",
     "output_type": "stream",
     "text": [
      "{1, 2}\n",
      "{1, 2}\n",
      "{5, 6}\n",
      "{5, 6}\n"
     ]
    }
   ],
   "source": [
    "#difference\n",
    "print(seta-setb)\n",
    "print(seta.difference(setb))\n",
    "print(setb-seta)\n",
    "print(setb.difference(seta))"
   ]
  },
  {
   "cell_type": "code",
   "execution_count": 16,
   "id": "a3efebdd",
   "metadata": {},
   "outputs": [
    {
     "name": "stdout",
     "output_type": "stream",
     "text": [
      "{1, 2, 5, 6}\n",
      "{1, 2, 5, 6}\n"
     ]
    }
   ],
   "source": [
    "print(setb^seta)\n",
    "print(setb.symmetric_difference(seta))"
   ]
  },
  {
   "cell_type": "code",
   "execution_count": 17,
   "id": "690ff4da",
   "metadata": {},
   "outputs": [
    {
     "name": "stdout",
     "output_type": "stream",
     "text": [
      "False\n",
      "True\n"
     ]
    }
   ],
   "source": [
    "seta={1,2,3,4,5,6}\n",
    "setb={3,4,5,6}\n",
    "print(seta.issubset(setb))\n",
    "print(setb.issubset(seta))"
   ]
  },
  {
   "cell_type": "code",
   "execution_count": 18,
   "id": "eee99d87",
   "metadata": {},
   "outputs": [
    {
     "name": "stdout",
     "output_type": "stream",
     "text": [
      "False\n"
     ]
    }
   ],
   "source": [
    "print(seta.isdisjoint(setb))"
   ]
  },
  {
   "cell_type": "code",
   "execution_count": 24,
   "id": "54802c8f",
   "metadata": {},
   "outputs": [
    {
     "name": "stdout",
     "output_type": "stream",
     "text": [
      "True\n",
      "True\n",
      "False\n",
      "False\n",
      "False\n",
      "True\n"
     ]
    }
   ],
   "source": [
    "seta = {1,1,1}\n",
    "setb = {False,0,0}\n",
    "setc = {True,1,0}\n",
    "print(all(seta))\n",
    "print(any(seta))\n",
    "print(all(setb))\n",
    "print(any(setb))\n",
    "print(all(setc))\n",
    "print(any(setc))"
   ]
  },
  {
   "cell_type": "code",
   "execution_count": 32,
   "id": "00509c03",
   "metadata": {},
   "outputs": [
    {
     "name": "stdout",
     "output_type": "stream",
     "text": [
      "6\n",
      "ab\n",
      "1\n",
      "Ab\n"
     ]
    }
   ],
   "source": [
    "seta={1,2,3,4,5,6}\n",
    "setb={'ab','PR','Ab'}\n",
    "print(max(seta))\n",
    "print(max(setb))\n",
    "print(min(seta))\n",
    "print(min(setb))"
   ]
  },
  {
   "cell_type": "code",
   "execution_count": null,
   "id": "7ab7cfe5",
   "metadata": {},
   "outputs": [],
   "source": []
  },
  {
   "cell_type": "code",
   "execution_count": null,
   "id": "4fde525b",
   "metadata": {},
   "outputs": [],
   "source": []
  },
  {
   "cell_type": "code",
   "execution_count": null,
   "id": "94c4528e",
   "metadata": {},
   "outputs": [],
   "source": []
  },
  {
   "cell_type": "code",
   "execution_count": null,
   "id": "6b45e0dd",
   "metadata": {},
   "outputs": [],
   "source": []
  },
  {
   "cell_type": "code",
   "execution_count": null,
   "id": "8996b1d5",
   "metadata": {},
   "outputs": [],
   "source": []
  }
 ],
 "metadata": {
  "kernelspec": {
   "display_name": "Python 3 (ipykernel)",
   "language": "python",
   "name": "python3"
  },
  "language_info": {
   "codemirror_mode": {
    "name": "ipython",
    "version": 3
   },
   "file_extension": ".py",
   "mimetype": "text/x-python",
   "name": "python",
   "nbconvert_exporter": "python",
   "pygments_lexer": "ipython3",
   "version": "3.9.7"
  }
 },
 "nbformat": 4,
 "nbformat_minor": 5
}
