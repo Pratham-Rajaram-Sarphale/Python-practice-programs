{
 "cells": [
  {
   "cell_type": "code",
   "execution_count": 6,
   "id": "d6b7dade",
   "metadata": {},
   "outputs": [
    {
     "name": "stdout",
     "output_type": "stream",
     "text": [
      "Enter a word: Nayan\n",
      "This is a palindrome.\n"
     ]
    }
   ],
   "source": [
    "#Write a program to check whether the string is palindrome or not\n",
    "word=input('Enter a word: ')\n",
    "lower=word.casefold()\n",
    "rev=lower[-1: :-1]\n",
    "if lower==rev:\n",
    "    print('This is a palindrome.')\n",
    "else:print('This is not a palindrome.')"
   ]
  }
 ],
 "metadata": {
  "kernelspec": {
   "display_name": "Python 3 (ipykernel)",
   "language": "python",
   "name": "python3"
  },
  "language_info": {
   "codemirror_mode": {
    "name": "ipython",
    "version": 3
   },
   "file_extension": ".py",
   "mimetype": "text/x-python",
   "name": "python",
   "nbconvert_exporter": "python",
   "pygments_lexer": "ipython3",
   "version": "3.9.7"
  }
 },
 "nbformat": 4,
 "nbformat_minor": 5
}
