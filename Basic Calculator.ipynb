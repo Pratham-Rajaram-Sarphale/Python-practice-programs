{
 "cells": [
  {
   "cell_type": "code",
   "execution_count": 1,
   "id": "92c21c8b",
   "metadata": {},
   "outputs": [
    {
     "name": "stdout",
     "output_type": "stream",
     "text": [
      "Enter any number: 450\n",
      "Enter any number: 73\n",
      "Enter any operator: *\n",
      "The multiplication of num1 by num2 is 32850.0\n"
     ]
    }
   ],
   "source": [
    "#Make a simple calculator using if-else statement\n",
    "num1=float(input('Enter any number: '))\n",
    "num2=float(input('Enter any number: '))\n",
    "operator=input('Enter any operator: ')\n",
    "if operator== '+':\n",
    "    print('The addition of num 1 and num2 is',num1+ num2)\n",
    "elif operator== '-':\n",
    "    print('The subtraction of num1 by num 2 is',num1-num2)\n",
    "elif operator== '*':\n",
    "    print('The multiplication of num1 by num2 is',num1*num2)\n",
    "else:\n",
    "    print('The division of num1 by num2 is',num1/num2)"
   ]
  }
 ],
 "metadata": {
  "kernelspec": {
   "display_name": "Python 3 (ipykernel)",
   "language": "python",
   "name": "python3"
  },
  "language_info": {
   "codemirror_mode": {
    "name": "ipython",
    "version": 3
   },
   "file_extension": ".py",
   "mimetype": "text/x-python",
   "name": "python",
   "nbconvert_exporter": "python",
   "pygments_lexer": "ipython3",
   "version": "3.9.7"
  }
 },
 "nbformat": 4,
 "nbformat_minor": 5
}
