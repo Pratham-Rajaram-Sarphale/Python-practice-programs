{
 "cells": [
  {
   "cell_type": "code",
   "execution_count": 2,
   "id": "e91fc796",
   "metadata": {},
   "outputs": [
    {
     "name": "stdout",
     "output_type": "stream",
     "text": [
      "Enter your Electric Units: 560\n",
      "You have to pay $ 1700\n"
     ]
    }
   ],
   "source": [
    "#Accept the electric units from the user and calculate the bill.\n",
    "unit=int(input(\"Enter your Electric Units: \"))\n",
    "if unit<100:\n",
    "    print('You have to pay $0')\n",
    "elif unit>=100 and unit<300:\n",
    "    print('You have to pay $',(unit-100)*2)\n",
    "elif unit>=300:\n",
    "    print('You have to pay $',400+(unit-300)*5)\n",
    "else:print('invalid unit')"
   ]
  }
 ],
 "metadata": {
  "kernelspec": {
   "display_name": "Python 3 (ipykernel)",
   "language": "python",
   "name": "python3"
  },
  "language_info": {
   "codemirror_mode": {
    "name": "ipython",
    "version": 3
   },
   "file_extension": ".py",
   "mimetype": "text/x-python",
   "name": "python",
   "nbconvert_exporter": "python",
   "pygments_lexer": "ipython3",
   "version": "3.9.7"
  }
 },
 "nbformat": 4,
 "nbformat_minor": 5
}
