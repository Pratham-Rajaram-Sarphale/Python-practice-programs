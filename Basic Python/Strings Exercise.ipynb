{
 "cells": [
  {
   "cell_type": "code",
   "execution_count": 1,
   "id": "07b3ff57",
   "metadata": {},
   "outputs": [
    {
     "name": "stdout",
     "output_type": "stream",
     "text": [
      "Enter 1st string: the lion\n",
      "Enter 2nd string:  and the king\n",
      "the lion and the king"
     ]
    }
   ],
   "source": [
    "x=input(\"Enter 1st string: \")\n",
    "y=input( \"Enter 2nd string: \")\n",
    "print(x,end=y)"
   ]
  },
  {
   "cell_type": "code",
   "execution_count": 2,
   "id": "be0d345b",
   "metadata": {},
   "outputs": [
    {
     "name": "stdout",
     "output_type": "stream",
     "text": [
      "Enter Your Name: Pratham\n",
      "Enter Your Age: !9\n",
      "Enter Your Roll no: 21\n",
      "Enter Your Std: S.Y\n",
      "Enter Your Hobby: Swimming,Cycling\n",
      "Enter Your Interest: Programming\n",
      "my name and age is Pratham,!9 and my roll no and std is 21,S.Y also my hobbies and interests are Swimming,Cycling,Programming"
     ]
    }
   ],
   "source": [
    "p=input(\"Enter Your Name: \")\n",
    "q=input(\"Enter Your Age: \")\n",
    "r=input(\"Enter Your Roll no: \")\n",
    "s=input(\"Enter Your Std: \")\n",
    "t=input(\"Enter Your Hobby: \")\n",
    "u=input(\"Enter Your Interest: \")\n",
    "print(\"my name and age is \",end=p+\",\"+q)\n",
    "print(\" and my roll no and std is \",end=r+\",\"+s)\n",
    "print(\" also my hobbies and interests are \",end=t+\",\"+u)"
   ]
  },
  {
   "cell_type": "code",
   "execution_count": 3,
   "id": "e212c1c7",
   "metadata": {},
   "outputs": [
    {
     "name": "stdout",
     "output_type": "stream",
     "text": [
      "Enter anything: xyz\n",
      "Enter again to compare: 345\n",
      "If they are equal you'll get True or else False:  False\n"
     ]
    }
   ],
   "source": [
    "x=input(\"Enter anything: \")\n",
    "y=input(\"Enter again to compare: \")\n",
    "print(\"If they are equal you'll get True or else False: \",x==y)"
   ]
  },
  {
   "cell_type": "code",
   "execution_count": 4,
   "id": "48801712",
   "metadata": {},
   "outputs": [
    {
     "name": "stdout",
     "output_type": "stream",
     "text": [
      "Enter 1st statement: 123\n",
      "Enter 2nd ststement: xyz\n",
      "Enter 3rd statement: 123\n",
      "If x and y are equal you'll get True or else False:  False\n",
      "If y and z are equal you'll get True or else False:  False\n",
      "If x and z are equal you'll get True or else False:  True\n"
     ]
    }
   ],
   "source": [
    "x=input(\"Enter 1st statement: \")\n",
    "y=input(\"Enter 2nd ststement: \")\n",
    "z=input(\"Enter 3rd statement: \")\n",
    "print(\"If x and y are equal you'll get True or else False: \",x==y)\n",
    "print(\"If y and z are equal you'll get True or else False: \",y==z)\n",
    "print(\"If x and z are equal you'll get True or else False: \",x==z)"
   ]
  },
  {
   "cell_type": "code",
   "execution_count": 5,
   "id": "fc128e70",
   "metadata": {},
   "outputs": [
    {
     "name": "stdout",
     "output_type": "stream",
     "text": [
      "Enter any number: 5\n",
      "Enter any number: 0\n",
      "sum of the numbers is greater than 5 - False\n",
      "sum of the numbers is less than 5 - False\n",
      "sum of the numbers is equal to 5 - True\n"
     ]
    }
   ],
   "source": [
    "x=float(input(\"Enter any number: \"))\n",
    "y=float(input(\"Enter any number: \"))\n",
    "z=x+y\n",
    "print(\"sum of the numbers is greater than 5 -\",z>5)\n",
    "print(\"sum of the numbers is less than 5 -\",z<5)\n",
    "print(\"sum of the numbers is equal to 5 -\",z==5)"
   ]
  },
  {
   "cell_type": "code",
   "execution_count": 6,
   "id": "ede2aec4",
   "metadata": {},
   "outputs": [
    {
     "name": "stdout",
     "output_type": "stream",
     "text": [
      "False\n",
      "True\n",
      "True\n",
      "False\n",
      "False\n"
     ]
    }
   ],
   "source": [
    "print(not(True and True))\n",
    "print(True or False)\n",
    "print(not(False and True))\n",
    "print(False and False)\n",
    "print(not(True or False))"
   ]
  },
  {
   "cell_type": "code",
   "execution_count": 7,
   "id": "149ee65c",
   "metadata": {},
   "outputs": [
    {
     "name": "stdout",
     "output_type": "stream",
     "text": [
      "Enter your marks: 70\n",
      "You scored greater than passing marks- True\n",
      "You scored less than passing marks- False\n",
      "You scored ecxactly equal to passing marks- False\n"
     ]
    }
   ],
   "source": [
    "passing_mks=35\n",
    "x=int(input(\"Enter your marks: \"))\n",
    "y=x>passing_mks\n",
    "print(\"You scored greater than passing marks-\",y)\n",
    "z=x<passing_mks\n",
    "print('You scored less than passing marks-',z)\n",
    "p=x==passing_mks\n",
    "print('You scored ecxactly equal to passing marks-',p)"
   ]
  },
  {
   "cell_type": "code",
   "execution_count": 8,
   "id": "589345cc",
   "metadata": {},
   "outputs": [
    {
     "name": "stdout",
     "output_type": "stream",
     "text": [
      "meaningless\n",
      "housefly\n",
      "galaxyF62\n",
      "AtmelAT89C51\n",
      "merrygoround\n",
      "Motherinlaw\n"
     ]
    }
   ],
   "source": [
    "x=\"meaning\"\n",
    "y=\"less\"\n",
    "print(x+y)\n",
    "a=\"house\"\n",
    "b=\"fly\"\n",
    "print(a+b)\n",
    "c=\"galaxy\"\n",
    "d=\"F62\"\n",
    "print(c+d)\n",
    "f=\"Atmel\"\n",
    "g=\"AT89C51\"\n",
    "print(f+g)\n",
    "h=\"merry\"\n",
    "i=\"go\"\n",
    "j=\"round\"\n",
    "print(h+i+j)\n",
    "k=\"Mother\"\n",
    "l=\"in\"\n",
    "m=\"law\"\n",
    "print(k+l+m)"
   ]
  },
  {
   "cell_type": "code",
   "execution_count": 9,
   "id": "c3efdf97",
   "metadata": {},
   "outputs": [
    {
     "name": "stdout",
     "output_type": "stream",
     "text": [
      "Enter your name: Pratham\n",
      "Enter your age: 19\n",
      "Hii! Pratham as per your age now, you'll turn 100 in the year 2103 .\n"
     ]
    }
   ],
   "source": [
    "p=str(input(\"Enter your name: \"))\n",
    "r=int(input(\"Enter your age: \"))\n",
    "s=2022-r\n",
    "t=s+100\n",
    "print(\"Hii!\",p,\"as per your age now, you'll turn 100 in the year\",t,\".\")"
   ]
  }
 ],
 "metadata": {
  "kernelspec": {
   "display_name": "Python 3 (ipykernel)",
   "language": "python",
   "name": "python3"
  },
  "language_info": {
   "codemirror_mode": {
    "name": "ipython",
    "version": 3
   },
   "file_extension": ".py",
   "mimetype": "text/x-python",
   "name": "python",
   "nbconvert_exporter": "python",
   "pygments_lexer": "ipython3",
   "version": "3.9.7"
  }
 },
 "nbformat": 4,
 "nbformat_minor": 5
}
