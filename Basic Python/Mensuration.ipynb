{
 "cells": [
  {
   "cell_type": "code",
   "execution_count": 1,
   "id": "d8806390-fd20-4ee4-bbcd-cb6d098b0be0",
   "metadata": {},
   "outputs": [
    {
     "name": "stdin",
     "output_type": "stream",
     "text": [
      "Enter the length of rectangle:  5\n",
      "Enter the breadth of rectangle:  4\n"
     ]
    },
    {
     "name": "stdout",
     "output_type": "stream",
     "text": [
      "Area of the rectangle is:  20.0\n"
     ]
    }
   ],
   "source": [
    "p=float(input(\"Enter the length of rectangle: \"))\n",
    "q=float(input(\"Enter the breadth of rectangle: \"))\n",
    "r=p*q\n",
    "print(\"Area of the rectangle is: \",r)"
   ]
  },
  {
   "cell_type": "code",
   "execution_count": 8,
   "id": "2a785d38-816b-43c6-9cc7-fd0320b0bac9",
   "metadata": {},
   "outputs": [
    {
     "name": "stdin",
     "output_type": "stream",
     "text": [
      "Enter the length of rectangle:  6.5\n",
      "Enter the breadth of rectangle:  2.3\n"
     ]
    },
    {
     "name": "stdout",
     "output_type": "stream",
     "text": [
      "Area of the rectangle is:  14\n"
     ]
    }
   ],
   "source": [
    "p=float(input(\"Enter the length of rectangle: \"))\n",
    "q=float(input(\"Enter the breadth of rectangle: \"))\n",
    "r=int(p*q)\n",
    "print(\"Area of the rectangle is: \",r)"
   ]
  },
  {
   "cell_type": "code",
   "execution_count": 3,
   "id": "c0f6694a-abd0-4798-8cc4-5fb23838a460",
   "metadata": {},
   "outputs": [
    {
     "name": "stdin",
     "output_type": "stream",
     "text": [
      "Enter the length of rectangle:  5\n",
      "Enter the breadth of rectangle:  4\n"
     ]
    },
    {
     "name": "stdout",
     "output_type": "stream",
     "text": [
      "Perimeter of the rectangle is:  18.0\n"
     ]
    }
   ],
   "source": [
    "p=float(input(\"Enter the length of rectangle: \"))\n",
    "q=float(input(\"Enter the breadth of rectangle: \"))\n",
    "r=2*(p+q)\n",
    "print(\"Perimeter of the rectangle is: \",r)"
   ]
  },
  {
   "cell_type": "code",
   "execution_count": 4,
   "id": "a551ef19-c037-4108-8a02-2a33e1a057ec",
   "metadata": {},
   "outputs": [
    {
     "name": "stdin",
     "output_type": "stream",
     "text": [
      "Enter the length of square:  5\n"
     ]
    },
    {
     "name": "stdout",
     "output_type": "stream",
     "text": [
      "Area of the square is:  25.0\n"
     ]
    }
   ],
   "source": [
    "p=float(input(\"Enter the length of square: \"))\n",
    "r=p**2\n",
    "print(\"Area of the square is: \",r)"
   ]
  },
  {
   "cell_type": "code",
   "execution_count": 5,
   "id": "7cfb314d-5cf9-4aeb-86e3-c429e8d86782",
   "metadata": {},
   "outputs": [
    {
     "name": "stdin",
     "output_type": "stream",
     "text": [
      "Enter the length of rectangle:  5\n"
     ]
    },
    {
     "name": "stdout",
     "output_type": "stream",
     "text": [
      "Perimeter of the square is:  20.0\n"
     ]
    }
   ],
   "source": [
    "p=float(input(\"Enter the length of rectangle: \"))\n",
    "r=4*p\n",
    "print(\"Perimeter of the square is: \",r)"
   ]
  },
  {
   "cell_type": "code",
   "execution_count": 6,
   "id": "78665bf0-6501-415f-a081-b92369d8c6be",
   "metadata": {},
   "outputs": [
    {
     "name": "stdin",
     "output_type": "stream",
     "text": [
      "Enter the radius of circle:  7\n"
     ]
    },
    {
     "name": "stdout",
     "output_type": "stream",
     "text": [
      "Area of the circle is:  153.9923\n"
     ]
    }
   ],
   "source": [
    "p=float(input(\"Enter the radius of circle: \"))\n",
    "r=3.1427*(p**2)\n",
    "print(\"Area of the circle is: \",r)"
   ]
  },
  {
   "cell_type": "code",
   "execution_count": 7,
   "id": "cef0379f-76f2-46b0-b7c9-ab14d97d560d",
   "metadata": {},
   "outputs": [
    {
     "name": "stdin",
     "output_type": "stream",
     "text": [
      "Enter the radius of circle:  7\n"
     ]
    },
    {
     "name": "stdout",
     "output_type": "stream",
     "text": [
      "Circumference of the Circle is:  43.9978\n"
     ]
    }
   ],
   "source": [
    "p=float(input(\"Enter the radius of circle: \"))\n",
    "r=2*3.1427*p\n",
    "print(\"Circumference of the Circle is: \",r)"
   ]
  },
  {
   "cell_type": "code",
   "execution_count": 9,
   "id": "2feba968-8c54-491a-84bc-65bce8a72d2c",
   "metadata": {},
   "outputs": [
    {
     "name": "stdin",
     "output_type": "stream",
     "text": [
      "Enter the length of cube:  7\n"
     ]
    },
    {
     "name": "stdout",
     "output_type": "stream",
     "text": [
      "Volume of the cube is:  343.0\n"
     ]
    }
   ],
   "source": [
    "p=float(input(\"Enter the length of cube: \"))\n",
    "r=p**3\n",
    "print(\"Volume of the cube is: \",r)"
   ]
  },
  {
   "cell_type": "code",
   "execution_count": 11,
   "id": "7dc666fc-d4c3-4c9a-8a6b-bd2b082937d4",
   "metadata": {},
   "outputs": [
    {
     "name": "stdin",
     "output_type": "stream",
     "text": [
      "Enter the length of cube:  6\n"
     ]
    },
    {
     "name": "stdout",
     "output_type": "stream",
     "text": [
      "Total surface area of the cube is:  216.0\n"
     ]
    }
   ],
   "source": [
    "p=float(input(\"Enter the length of cube: \"))\n",
    "r=6*p**2\n",
    "print(\"Total surface area of the cube is: \",r)"
   ]
  },
  {
   "cell_type": "code",
   "execution_count": 13,
   "id": "a81dd396-4c42-4f7a-a434-7bec13fd3a4a",
   "metadata": {},
   "outputs": [
    {
     "name": "stdin",
     "output_type": "stream",
     "text": [
      "Enter the length of cuboid:  12\n",
      "Enter the breadth of cuboid:  23\n",
      "Enter the height of cuboid:  34\n"
     ]
    },
    {
     "name": "stdout",
     "output_type": "stream",
     "text": [
      "Total surface area of the cuboid is:  2932.0\n"
     ]
    }
   ],
   "source": [
    "p=float(input(\"Enter the length of cuboid: \"))\n",
    "q=float(input(\"Enter the breadth of cuboid: \"))\n",
    "r=float(input(\"Enter the height of cuboid: \"))\n",
    "s=2*(p*q + q*r + p*r)\n",
    "print(\"Total surface area of the cuboid is: \",s)"
   ]
  },
  {
   "cell_type": "code",
   "execution_count": 14,
   "id": "e35ead84-972d-4a9e-b9d0-53fbb7f15fc5",
   "metadata": {},
   "outputs": [
    {
     "name": "stdin",
     "output_type": "stream",
     "text": [
      "Enter the length of cuboid:  4\n",
      "Enter the breadth of cuboid:  3\n",
      "Enter the height of cuboid:  5\n"
     ]
    },
    {
     "name": "stdout",
     "output_type": "stream",
     "text": [
      "Volume of the cuboid is:  60.0\n"
     ]
    }
   ],
   "source": [
    "p=float(input(\"Enter the length of cuboid: \"))\n",
    "q=float(input(\"Enter the breadth of cuboid: \"))\n",
    "r=float(input(\"Enter the height of cuboid: \"))\n",
    "s=p*q*r\n",
    "print(\"Volume of the cuboid is: \",s)"
   ]
  }
 ],
 "metadata": {
  "kernelspec": {
   "display_name": "Python 3 (ipykernel)",
   "language": "python",
   "name": "python3"
  },
  "language_info": {
   "codemirror_mode": {
    "name": "ipython",
    "version": 3
   },
   "file_extension": ".py",
   "mimetype": "text/x-python",
   "name": "python",
   "nbconvert_exporter": "python",
   "pygments_lexer": "ipython3",
   "version": "3.9.7"
  }
 },
 "nbformat": 4,
 "nbformat_minor": 5
}
